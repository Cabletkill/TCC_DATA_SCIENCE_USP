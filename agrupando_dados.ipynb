{
 "cells": [
  {
   "cell_type": "code",
   "execution_count": 1,
   "metadata": {},
   "outputs": [
    {
     "name": "stderr",
     "output_type": "stream",
     "text": [
      "C:\\Users\\r2d2s.DESKTOP-6M80TSF\\AppData\\Local\\Temp\\ipykernel_14028\\2335329457.py:23: FutureWarning: The behavior of DataFrame concatenation with empty or all-NA entries is deprecated. In a future version, this will no longer exclude empty or all-NA columns when determining the result dtypes. To retain the old behavior, exclude the relevant entries before the concat operation.\n",
      "  dados_combinados = pd.concat(dataframes, ignore_index=True)\n"
     ]
    },
    {
     "name": "stdout",
     "output_type": "stream",
     "text": [
      "Arquivos combinados e salvos em dados_2012_2022.csv\n"
     ]
    }
   ],
   "source": [
    "import os\n",
    "import pandas as pd\n",
    "\n",
    "# Diretório atual\n",
    "diretorio = os.getcwd()\n",
    "\n",
    "# Lista para armazenar os caminhos dos arquivos XLSX\n",
    "arquivos_xlsx = [arquivo for arquivo in os.listdir(diretorio) if arquivo.endswith('.xlsx')]\n",
    "\n",
    "# Verifica se há pelo menos dois arquivos para combinar\n",
    "if len(arquivos_xlsx) >= 2:\n",
    "    # Lista para armazenar os DataFrames de cada arquivo\n",
    "    dataframes = []\n",
    "\n",
    "    # Loop para ler cada arquivo e armazenar seu DataFrame na lista\n",
    "    for caminho_arquivo in arquivos_xlsx:\n",
    "        # Lê o arquivo Excel e armazena o DataFrame resultante\n",
    "        dados = pd.read_excel(caminho_arquivo)\n",
    "        # Adiciona o DataFrame à lista\n",
    "        dataframes.append(dados)\n",
    "\n",
    "    # Combine todos os DataFrames em um único DataFrame\n",
    "    dados_combinados = pd.concat(dataframes, ignore_index=True)\n",
    "\n",
    "    # Caminho para o arquivo de saída CSV\n",
    "    caminho_saida_csv = 'dados_2012_2022.csv'\n",
    "\n",
    "    # Salve os dados combinados em um novo arquivo CSV\n",
    "    dados_combinados.to_csv(caminho_saida_csv, index=False)\n",
    "\n",
    "    # Imprime uma mensagem indicando o sucesso da operação\n",
    "    print(f'Arquivos combinados e salvos em {caminho_saida_csv}')\n",
    "else:\n",
    "    # Imprime uma mensagem informando que pelo menos dois arquivos XLSX são necessários\n",
    "    print('Pelo menos dois arquivos XLSX são necessários para combinar.')"
   ]
  }
 ],
 "metadata": {
  "kernelspec": {
   "display_name": "Python 3",
   "language": "python",
   "name": "python3"
  },
  "language_info": {
   "codemirror_mode": {
    "name": "ipython",
    "version": 3
   },
   "file_extension": ".py",
   "mimetype": "text/x-python",
   "name": "python",
   "nbconvert_exporter": "python",
   "pygments_lexer": "ipython3",
   "version": "3.12.2"
  }
 },
 "nbformat": 4,
 "nbformat_minor": 2
}
