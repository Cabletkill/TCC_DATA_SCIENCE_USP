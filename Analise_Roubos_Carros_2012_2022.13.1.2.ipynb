{
 "cells": [
  {
   "cell_type": "markdown",
   "metadata": {},
   "source": [
    "# Inteligência Artificial na Previsão de Crimes: \n",
    "### Uma Perspectiva Prática com Dados das Ocorrências Criminais"
   ]
  },
  {
   "cell_type": "markdown",
   "metadata": {},
   "source": [
    "<!-- ![tittle](imagens/assalto.jpg) -->\n",
    "![image.png](attachment:image.png)"
   ]
  },
  {
   "cell_type": "markdown",
   "metadata": {},
   "source": [
    "Introdução:\n",
    "\n",
    "-    A crescente complexidade das questões de segurança pública tem impulsionado a busca por métodos inovadores e eficazes na prevenção e gestão de crimes. Nesse contexto, a integração de inteligência artificial (IA) nos processos de previsão de ocorrências criminais podem representa um avanço significativo. Este estudo se propõe a explorar uma perspectiva prática da aplicação de IA na análise de dados de ocorrências criminais, visando não apenas compreender padrões históricos, mas também antecipar tendências futuras.\n",
    "\n",
    "-    Ao utilizar conjuntos de dados abrangentes provenientes de registros da Secretaria de Segurança Publica de São Paulo, pretendo empregar algoritmos de machine learning para identificar padrões complexos e relações ocultas. Essa abordagem não apenas oferece insights valiosos para as forças de segurança, mas também fornece uma base sólida para a implementação de estratégias proativas e direcionadas. Ao longo deste estudo, examinaremos a eficácia da IA na previsão de crimes, destacando sua aplicabilidade prática e o potencial impacto positivo na tomada de decisões em segurança pública."
   ]
  },
  {
   "cell_type": "code",
   "execution_count": 1,
   "metadata": {},
   "outputs": [
    {
     "name": "stdout",
     "output_type": "stream",
     "text": [
      "Author: Ricardo de Souza Silva\n",
      "\n"
     ]
    }
   ],
   "source": [
    "# Versão da Linguagem Python\n",
    "from platform import python_version\n",
    "%reload_ext watermark\n",
    "%watermark -a \"Ricardo de Souza Silva\" "
   ]
  },
  {
   "cell_type": "markdown",
   "metadata": {},
   "source": [
    "## Pacote Necessários"
   ]
  },
  {
   "cell_type": "code",
   "execution_count": 2,
   "metadata": {},
   "outputs": [
    {
     "name": "stdout",
     "output_type": "stream",
     "text": [
      "Pandas version: 2.1.4\n",
      "Statsmodels version: 0.14.1\n",
      "Matplotlib version: 3.8.3\n",
      "NumPy version: 1.26.4\n",
      "Scikit-learn version: 1.4.1.post1\n",
      "Seaborn version: 0.13.2\n"
     ]
    }
   ],
   "source": [
    "import pandas as pd                                                             # Importa a biblioteca pandas para manipulação de dados\n",
    "from statsmodels.tsa.stattools import adfuller                                  # Importa a função para o teste de Dickey-Fuller aumentado\n",
    "from statsmodels.tsa.seasonal import STL                                        # Importa a função para decomposição sazonal usando STL\n",
    "from statsmodels.graphics.tsaplots import plot_acf, plot_pacf                   # Importa funções para plotar a ACF e PACF\n",
    "import matplotlib.pyplot as plt                                                 # Importa a biblioteca para criação de gráficos\n",
    "from statsmodels.tsa.arima.model import ARIMA                                   # Importa a classe ARIMA para modelagem de séries temporais\n",
    "from statsmodels.tsa.statespace.sarimax import SARIMAX                          # Importa a classe SARIMAX para modelagem de séries temporais com componentes sazonais\n",
    "import numpy as np                                                              # Importa a biblioteca numpy para manipulação de arrays numéricos\n",
    "from sklearn.metrics import mean_absolute_error, mean_squared_error, r2_score   # Importa as funções de métricas de erro\n",
    "import seaborn as sns                                                           # Importa a biblioteca seaborn para visualização de dados\n",
    "import warnings                                                                 # Importa a biblioteca warnings para manipulação de avisos\n",
    "warnings.filterwarnings('ignore')                                               # Ignora avisos de alerta para manter o output limpo\n",
    "\n",
    "import statsmodels\n",
    "import matplotlib\n",
    "import sklearn\n",
    "\n",
    "print(f'Pandas version: {pd.__version__}')\n",
    "print(f'Statsmodels version: {statsmodels.__version__}')\n",
    "print(f'Matplotlib version: {matplotlib.__version__}')\n",
    "print(f'NumPy version: {np.__version__}')\n",
    "print(f'Scikit-learn version: {sklearn.__version__}')\n",
    "print(f'Seaborn version: {sns.__version__}')"
   ]
  },
  {
   "cell_type": "markdown",
   "metadata": {},
   "source": [
    "## Carregando os Dados e Compreendendo as Variáveis"
   ]
  },
  {
   "cell_type": "code",
   "execution_count": 3,
   "metadata": {},
   "outputs": [],
   "source": [
    "# Lista para identificar os valores ausentes\n",
    "lista_labels_valores_ausentes = [\"n/a,\", \"na\", \"undefined\"]"
   ]
  },
  {
   "cell_type": "code",
   "execution_count": 4,
   "metadata": {},
   "outputs": [],
   "source": [
    "# Lê um arquivo CSV ('dados_2012_2022.csv') e cria um DataFrame chamado 'dataset'\n",
    "# Permite especificar valores a serem tratados como ausentes durante a leitura\n",
    "dataset = pd.read_csv('data_set\\dados_2012_2022.csv', na_values = lista_labels_valores_ausentes)"
   ]
  },
  {
   "cell_type": "code",
   "execution_count": 5,
   "metadata": {},
   "outputs": [
    {
     "data": {
      "text/plain": [
       "(1702378, 54)"
      ]
     },
     "execution_count": 5,
     "metadata": {},
     "output_type": "execute_result"
    }
   ],
   "source": [
    "# Verificando quantidade de linhas e colunas com a função shape 1689066\n",
    "dataset.shape"
   ]
  },
  {
   "cell_type": "code",
   "execution_count": 6,
   "metadata": {},
   "outputs": [],
   "source": [
    "# Define o nome do arquivo CSV a ser lido como 'dicionario_consolidado.csv'\n",
    "# Separa os valores no arquivo CSV usando o ponto e vírgula (\";\")\n",
    "# Define valores na lista 'lista_labels_valores_ausentes' como NaN (valores ausentes)\n",
    "# Usa a codificação 'latin1' para garantir que caracteres especiais sejam lidos corretamente\n",
    "dicionario = pd.read_csv('dicionario_consolidado.csv', sep=';', na_values=lista_labels_valores_ausentes, encoding='latin1')"
   ]
  },
  {
   "cell_type": "code",
   "execution_count": 7,
   "metadata": {},
   "outputs": [
    {
     "name": "stdout",
     "output_type": "stream",
     "text": [
      "Comparando o dataset com o dicionario de dados\n",
      "dataset = (1702378, 54)\n",
      "dicionario = (54, 2)\n"
     ]
    }
   ],
   "source": [
    "# Imprime uma mensagem comparando as formas (número de linhas e colunas) do DataFrame 'dataset' e 'dicionario'\n",
    "print(f\"Comparando o dataset com o dicionario de dados\\n\"\n",
    "      f\"dataset = {dataset.shape}\\n\"\n",
    "      f\"dicionario = {dicionario.shape}\")"
   ]
  },
  {
   "cell_type": "code",
   "execution_count": 8,
   "metadata": {},
   "outputs": [],
   "source": [
    "# Concatena os dataframes \n",
    "df_compara_colunas = pd.concat([pd.Series(dataset.columns.tolist()), dicionario['Variavel']], axis = 1)"
   ]
  },
  {
   "cell_type": "code",
   "execution_count": 9,
   "metadata": {},
   "outputs": [],
   "source": [
    "# Renomeia as colunas\n",
    "df_compara_colunas.rename(columns = {0: 'Coluna no Dataset', 'Variavel': 'Coluna no Dicionario'}, inplace = True)"
   ]
  },
  {
   "cell_type": "markdown",
   "metadata": {},
   "source": [
    "Comparando dicionário com o dataset:\n",
    "\n",
    "Ao comparar o dicionário com o conjunto de dados (dataset), não identifiquei possíveis discrepâncias entre as informações presentes em ambas as fontes. Esse processo é fundamental para garantir a consistência e a precisão dos dados, bem como para verificar se todas as entradas no dicionário estão devidamente representadas no conjunto de dados e vice-versa. Dessa forma, podemos assegurar a integridade e confiabilidade das informações analisadas."
   ]
  },
  {
   "cell_type": "code",
   "execution_count": 10,
   "metadata": {},
   "outputs": [
    {
     "data": {
      "text/html": [
       "<div>\n",
       "<style scoped>\n",
       "    .dataframe tbody tr th:only-of-type {\n",
       "        vertical-align: middle;\n",
       "    }\n",
       "\n",
       "    .dataframe tbody tr th {\n",
       "        vertical-align: top;\n",
       "    }\n",
       "\n",
       "    .dataframe thead th {\n",
       "        text-align: right;\n",
       "    }\n",
       "</style>\n",
       "<table border=\"1\" class=\"dataframe\">\n",
       "  <thead>\n",
       "    <tr style=\"text-align: right;\">\n",
       "      <th></th>\n",
       "      <th>Coluna no Dataset</th>\n",
       "      <th>Coluna no Dicionario</th>\n",
       "    </tr>\n",
       "  </thead>\n",
       "  <tbody>\n",
       "    <tr>\n",
       "      <th>0</th>\n",
       "      <td>ANO_BO</td>\n",
       "      <td>ANO_BO</td>\n",
       "    </tr>\n",
       "    <tr>\n",
       "      <th>1</th>\n",
       "      <td>NUM_BO</td>\n",
       "      <td>NUM_BO</td>\n",
       "    </tr>\n",
       "    <tr>\n",
       "      <th>2</th>\n",
       "      <td>NUMERO_BOLETIM</td>\n",
       "      <td>NUMERO_BOLETIM</td>\n",
       "    </tr>\n",
       "    <tr>\n",
       "      <th>3</th>\n",
       "      <td>BO_INICIADO</td>\n",
       "      <td>BO_INICIADO</td>\n",
       "    </tr>\n",
       "    <tr>\n",
       "      <th>4</th>\n",
       "      <td>BO_EMITIDO</td>\n",
       "      <td>BO_EMITIDO</td>\n",
       "    </tr>\n",
       "    <tr>\n",
       "      <th>5</th>\n",
       "      <td>DATAOCORRENCIA</td>\n",
       "      <td>DATAOCORRENCIA</td>\n",
       "    </tr>\n",
       "    <tr>\n",
       "      <th>6</th>\n",
       "      <td>HORAOCORRENCIA</td>\n",
       "      <td>HORAOCORRENCIA</td>\n",
       "    </tr>\n",
       "    <tr>\n",
       "      <th>7</th>\n",
       "      <td>PERIDOOCORRENCIA</td>\n",
       "      <td>PERIDOOCORRENCIA</td>\n",
       "    </tr>\n",
       "    <tr>\n",
       "      <th>8</th>\n",
       "      <td>DATACOMUNICACAO</td>\n",
       "      <td>DATACOMUNICACAO</td>\n",
       "    </tr>\n",
       "    <tr>\n",
       "      <th>9</th>\n",
       "      <td>DATAELABORACAO</td>\n",
       "      <td>DATAELABORACAO</td>\n",
       "    </tr>\n",
       "    <tr>\n",
       "      <th>10</th>\n",
       "      <td>BO_AUTORIA</td>\n",
       "      <td>BO_AUTORIA</td>\n",
       "    </tr>\n",
       "    <tr>\n",
       "      <th>11</th>\n",
       "      <td>FLAGRANTE</td>\n",
       "      <td>FLAGRANTE</td>\n",
       "    </tr>\n",
       "    <tr>\n",
       "      <th>12</th>\n",
       "      <td>NUMERO_BOLETIM_PRINCIPAL</td>\n",
       "      <td>NUMERO_BOLETIM_PRINCIPAL</td>\n",
       "    </tr>\n",
       "    <tr>\n",
       "      <th>13</th>\n",
       "      <td>LOGRADOURO</td>\n",
       "      <td>LOGRADOURO</td>\n",
       "    </tr>\n",
       "    <tr>\n",
       "      <th>14</th>\n",
       "      <td>NUMERO</td>\n",
       "      <td>NUMERO</td>\n",
       "    </tr>\n",
       "    <tr>\n",
       "      <th>15</th>\n",
       "      <td>BAIRRO</td>\n",
       "      <td>BAIRRO</td>\n",
       "    </tr>\n",
       "    <tr>\n",
       "      <th>16</th>\n",
       "      <td>CIDADE</td>\n",
       "      <td>CIDADE</td>\n",
       "    </tr>\n",
       "    <tr>\n",
       "      <th>17</th>\n",
       "      <td>UF</td>\n",
       "      <td>UF</td>\n",
       "    </tr>\n",
       "    <tr>\n",
       "      <th>18</th>\n",
       "      <td>LATITUDE</td>\n",
       "      <td>LATITUDE</td>\n",
       "    </tr>\n",
       "    <tr>\n",
       "      <th>19</th>\n",
       "      <td>LONGITUDE</td>\n",
       "      <td>LONGITUDE</td>\n",
       "    </tr>\n",
       "    <tr>\n",
       "      <th>20</th>\n",
       "      <td>DESCRICAOLOCAL</td>\n",
       "      <td>DESCRICAOLOCAL</td>\n",
       "    </tr>\n",
       "    <tr>\n",
       "      <th>21</th>\n",
       "      <td>EXAME</td>\n",
       "      <td>EXAME</td>\n",
       "    </tr>\n",
       "    <tr>\n",
       "      <th>22</th>\n",
       "      <td>SOLUCAO</td>\n",
       "      <td>SOLUCAO</td>\n",
       "    </tr>\n",
       "    <tr>\n",
       "      <th>23</th>\n",
       "      <td>DELEGACIA_NOME</td>\n",
       "      <td>DELEGACIA_NOME</td>\n",
       "    </tr>\n",
       "    <tr>\n",
       "      <th>24</th>\n",
       "      <td>DELEGACIA_CIRCUNSCRICAO</td>\n",
       "      <td>DELEGACIA_CIRCUNSCRICAO</td>\n",
       "    </tr>\n",
       "    <tr>\n",
       "      <th>25</th>\n",
       "      <td>ESPECIE</td>\n",
       "      <td>ESPECIE</td>\n",
       "    </tr>\n",
       "    <tr>\n",
       "      <th>26</th>\n",
       "      <td>RUBRICA</td>\n",
       "      <td>RUBRICA</td>\n",
       "    </tr>\n",
       "    <tr>\n",
       "      <th>27</th>\n",
       "      <td>DESDOBRAMENTO</td>\n",
       "      <td>DESDOBRAMENTO</td>\n",
       "    </tr>\n",
       "    <tr>\n",
       "      <th>28</th>\n",
       "      <td>STATUS</td>\n",
       "      <td>STATUS</td>\n",
       "    </tr>\n",
       "    <tr>\n",
       "      <th>29</th>\n",
       "      <td>TIPOPESSOA</td>\n",
       "      <td>TIPOPESSOA</td>\n",
       "    </tr>\n",
       "    <tr>\n",
       "      <th>30</th>\n",
       "      <td>VITIMAFATAL</td>\n",
       "      <td>VITIMAFATAL</td>\n",
       "    </tr>\n",
       "    <tr>\n",
       "      <th>31</th>\n",
       "      <td>NATURALIDADE</td>\n",
       "      <td>NATURALIDADE</td>\n",
       "    </tr>\n",
       "    <tr>\n",
       "      <th>32</th>\n",
       "      <td>NACIONALIDADE</td>\n",
       "      <td>NACIONALIDADE</td>\n",
       "    </tr>\n",
       "    <tr>\n",
       "      <th>33</th>\n",
       "      <td>SEXO</td>\n",
       "      <td>SEXO</td>\n",
       "    </tr>\n",
       "    <tr>\n",
       "      <th>34</th>\n",
       "      <td>DATANASCIMENTO</td>\n",
       "      <td>DATANASCIMENTO</td>\n",
       "    </tr>\n",
       "    <tr>\n",
       "      <th>35</th>\n",
       "      <td>IDADE</td>\n",
       "      <td>IDADE</td>\n",
       "    </tr>\n",
       "    <tr>\n",
       "      <th>36</th>\n",
       "      <td>ESTADOCIVIL</td>\n",
       "      <td>ESTADOCIVIL</td>\n",
       "    </tr>\n",
       "    <tr>\n",
       "      <th>37</th>\n",
       "      <td>PROFISSAO</td>\n",
       "      <td>PROFISSAO</td>\n",
       "    </tr>\n",
       "    <tr>\n",
       "      <th>38</th>\n",
       "      <td>GRAUINSTRUCAO</td>\n",
       "      <td>GRAUINSTRUCAO</td>\n",
       "    </tr>\n",
       "    <tr>\n",
       "      <th>39</th>\n",
       "      <td>CORCUTIS</td>\n",
       "      <td>CORCUTIS</td>\n",
       "    </tr>\n",
       "    <tr>\n",
       "      <th>40</th>\n",
       "      <td>NATUREZAVINCULADA</td>\n",
       "      <td>NATUREZAVINCULADA</td>\n",
       "    </tr>\n",
       "    <tr>\n",
       "      <th>41</th>\n",
       "      <td>TIPOVINCULO</td>\n",
       "      <td>TIPOVINCULO</td>\n",
       "    </tr>\n",
       "    <tr>\n",
       "      <th>42</th>\n",
       "      <td>RELACIONAMENTO</td>\n",
       "      <td>RELACIONAMENTO</td>\n",
       "    </tr>\n",
       "    <tr>\n",
       "      <th>43</th>\n",
       "      <td>PARENTESCO</td>\n",
       "      <td>PARENTESCO</td>\n",
       "    </tr>\n",
       "    <tr>\n",
       "      <th>44</th>\n",
       "      <td>PLACA_VEICULO</td>\n",
       "      <td>PLACA_VEICULO</td>\n",
       "    </tr>\n",
       "    <tr>\n",
       "      <th>45</th>\n",
       "      <td>UF_VEICULO</td>\n",
       "      <td>UF_VEICULO</td>\n",
       "    </tr>\n",
       "    <tr>\n",
       "      <th>46</th>\n",
       "      <td>CIDADE_VEICULO</td>\n",
       "      <td>CIDADE_VEICULO</td>\n",
       "    </tr>\n",
       "    <tr>\n",
       "      <th>47</th>\n",
       "      <td>DESCR_COR_VEICULO</td>\n",
       "      <td>DESCR_COR_VEICULO</td>\n",
       "    </tr>\n",
       "    <tr>\n",
       "      <th>48</th>\n",
       "      <td>DESCR_MARCA_VEICULO</td>\n",
       "      <td>DESCR_MARCA_VEICULO</td>\n",
       "    </tr>\n",
       "    <tr>\n",
       "      <th>49</th>\n",
       "      <td>ANO_FABRICACAO</td>\n",
       "      <td>ANO_FABRICACAO</td>\n",
       "    </tr>\n",
       "    <tr>\n",
       "      <th>50</th>\n",
       "      <td>ANO_MODELO</td>\n",
       "      <td>ANO_MODELO</td>\n",
       "    </tr>\n",
       "    <tr>\n",
       "      <th>51</th>\n",
       "      <td>DESCR_TIPO_VEICULO</td>\n",
       "      <td>DESCR_TIPO_VEICULO</td>\n",
       "    </tr>\n",
       "    <tr>\n",
       "      <th>52</th>\n",
       "      <td>QUANT_CELULAR</td>\n",
       "      <td>QUANT_CELULAR</td>\n",
       "    </tr>\n",
       "    <tr>\n",
       "      <th>53</th>\n",
       "      <td>MARCA_CELULAR</td>\n",
       "      <td>MARCA_CELULAR</td>\n",
       "    </tr>\n",
       "  </tbody>\n",
       "</table>\n",
       "</div>"
      ],
      "text/plain": [
       "           Coluna no Dataset      Coluna no Dicionario\n",
       "0                     ANO_BO                    ANO_BO\n",
       "1                     NUM_BO                    NUM_BO\n",
       "2             NUMERO_BOLETIM            NUMERO_BOLETIM\n",
       "3                BO_INICIADO               BO_INICIADO\n",
       "4                 BO_EMITIDO                BO_EMITIDO\n",
       "5             DATAOCORRENCIA            DATAOCORRENCIA\n",
       "6             HORAOCORRENCIA            HORAOCORRENCIA\n",
       "7           PERIDOOCORRENCIA          PERIDOOCORRENCIA\n",
       "8            DATACOMUNICACAO           DATACOMUNICACAO\n",
       "9             DATAELABORACAO            DATAELABORACAO\n",
       "10                BO_AUTORIA                BO_AUTORIA\n",
       "11                 FLAGRANTE                 FLAGRANTE\n",
       "12  NUMERO_BOLETIM_PRINCIPAL  NUMERO_BOLETIM_PRINCIPAL\n",
       "13                LOGRADOURO                LOGRADOURO\n",
       "14                    NUMERO                    NUMERO\n",
       "15                    BAIRRO                    BAIRRO\n",
       "16                    CIDADE                    CIDADE\n",
       "17                        UF                        UF\n",
       "18                  LATITUDE                  LATITUDE\n",
       "19                 LONGITUDE                 LONGITUDE\n",
       "20            DESCRICAOLOCAL            DESCRICAOLOCAL\n",
       "21                     EXAME                     EXAME\n",
       "22                   SOLUCAO                   SOLUCAO\n",
       "23            DELEGACIA_NOME            DELEGACIA_NOME\n",
       "24   DELEGACIA_CIRCUNSCRICAO   DELEGACIA_CIRCUNSCRICAO\n",
       "25                   ESPECIE                   ESPECIE\n",
       "26                   RUBRICA                   RUBRICA\n",
       "27             DESDOBRAMENTO             DESDOBRAMENTO\n",
       "28                    STATUS                    STATUS\n",
       "29                TIPOPESSOA                TIPOPESSOA\n",
       "30               VITIMAFATAL               VITIMAFATAL\n",
       "31              NATURALIDADE              NATURALIDADE\n",
       "32             NACIONALIDADE             NACIONALIDADE\n",
       "33                      SEXO                      SEXO\n",
       "34            DATANASCIMENTO            DATANASCIMENTO\n",
       "35                     IDADE                     IDADE\n",
       "36               ESTADOCIVIL               ESTADOCIVIL\n",
       "37                 PROFISSAO                 PROFISSAO\n",
       "38             GRAUINSTRUCAO             GRAUINSTRUCAO\n",
       "39                  CORCUTIS                  CORCUTIS\n",
       "40         NATUREZAVINCULADA         NATUREZAVINCULADA\n",
       "41               TIPOVINCULO               TIPOVINCULO\n",
       "42            RELACIONAMENTO            RELACIONAMENTO\n",
       "43                PARENTESCO                PARENTESCO\n",
       "44             PLACA_VEICULO             PLACA_VEICULO\n",
       "45                UF_VEICULO                UF_VEICULO\n",
       "46            CIDADE_VEICULO            CIDADE_VEICULO\n",
       "47         DESCR_COR_VEICULO         DESCR_COR_VEICULO\n",
       "48       DESCR_MARCA_VEICULO       DESCR_MARCA_VEICULO\n",
       "49            ANO_FABRICACAO            ANO_FABRICACAO\n",
       "50                ANO_MODELO                ANO_MODELO\n",
       "51        DESCR_TIPO_VEICULO        DESCR_TIPO_VEICULO\n",
       "52             QUANT_CELULAR             QUANT_CELULAR\n",
       "53             MARCA_CELULAR             MARCA_CELULAR"
      ]
     },
     "execution_count": 10,
     "metadata": {},
     "output_type": "execute_result"
    }
   ],
   "source": [
    "# Visualiza\n",
    "df_compara_colunas.head(60)"
   ]
  },
  {
   "cell_type": "markdown",
   "metadata": {},
   "source": [
    "# Limpeza e Pré-processamento dos Dados"
   ]
  },
  {
   "cell_type": "markdown",
   "metadata": {},
   "source": [
    "Verificando a porcentagem de dados ausentes, percentualmente."
   ]
  },
  {
   "cell_type": "code",
   "execution_count": 11,
   "metadata": {},
   "outputs": [
    {
     "name": "stdout",
     "output_type": "stream",
     "text": [
      "ANO_BO                        0.0\n",
      "NUM_BO                        0.0\n",
      "NUMERO_BOLETIM                0.0\n",
      "BO_INICIADO                   0.0\n",
      "BO_EMITIDO                    0.0\n",
      "DATAOCORRENCIA                0.0\n",
      "HORAOCORRENCIA                6.0\n",
      "PERIDOOCORRENCIA              0.0\n",
      "DATACOMUNICACAO               0.0\n",
      "DATAELABORACAO                0.0\n",
      "BO_AUTORIA                    0.0\n",
      "FLAGRANTE                     0.0\n",
      "NUMERO_BOLETIM_PRINCIPAL     89.0\n",
      "LOGRADOURO                    9.0\n",
      "NUMERO                        0.0\n",
      "BAIRRO                        6.0\n",
      "CIDADE                        0.0\n",
      "UF                            0.0\n",
      "LATITUDE                     12.0\n",
      "LONGITUDE                    12.0\n",
      "DESCRICAOLOCAL                0.0\n",
      "EXAME                        75.0\n",
      "SOLUCAO                       0.0\n",
      "DELEGACIA_NOME                0.0\n",
      "DELEGACIA_CIRCUNSCRICAO       0.0\n",
      "ESPECIE                       0.0\n",
      "RUBRICA                       0.0\n",
      "DESDOBRAMENTO                94.0\n",
      "STATUS                        4.0\n",
      "TIPOPESSOA                   99.0\n",
      "VITIMAFATAL                  99.0\n",
      "NATURALIDADE                100.0\n",
      "NACIONALIDADE               100.0\n",
      "SEXO                         99.0\n",
      "DATANASCIMENTO              100.0\n",
      "IDADE                       100.0\n",
      "ESTADOCIVIL                 100.0\n",
      "PROFISSAO                   100.0\n",
      "GRAUINSTRUCAO               100.0\n",
      "CORCUTIS                    100.0\n",
      "NATUREZAVINCULADA            99.0\n",
      "TIPOVINCULO                  99.0\n",
      "RELACIONAMENTO              100.0\n",
      "PARENTESCO                  100.0\n",
      "PLACA_VEICULO                29.0\n",
      "UF_VEICULO                   28.0\n",
      "CIDADE_VEICULO               29.0\n",
      "DESCR_COR_VEICULO            28.0\n",
      "DESCR_MARCA_VEICULO          29.0\n",
      "ANO_FABRICACAO                1.0\n",
      "ANO_MODELO                    5.0\n",
      "DESCR_TIPO_VEICULO           28.0\n",
      "QUANT_CELULAR               100.0\n",
      "MARCA_CELULAR               100.0\n",
      "dtype: float64\n"
     ]
    }
   ],
   "source": [
    "# Calcula a porcentagem de valores ausentes em cada coluna do DataFrame 'dataset'\n",
    "percentagem_valores_ausentes = dataset.isna().sum() / len(dataset) * 100\n",
    "# Arredonda as porcentagens para números inteiros\n",
    "percentagem_valores_ausentes_arredondada = percentagem_valores_ausentes.round()\n",
    "# Imprime as porcentagens arredondadas\n",
    "print(percentagem_valores_ausentes_arredondada)"
   ]
  },
  {
   "cell_type": "markdown",
   "metadata": {},
   "source": [
    "Prosseguirei com a exclusão das variáveis que apresentam 70% ou mais de valores ausentes. Essa decisão foi tomada após identificarmos que as variáveis que necessitam de exclusão coincidem com aquelas que possuem uma taxa de ausência superior a 70%."
   ]
  },
  {
   "cell_type": "markdown",
   "metadata": {},
   "source": [
    "A exclusão das variáveis com valores ausentes no conjunto de dados foi decidida com base em diversas considerações. A presença de valores ausentes em todas as observações sugere que essas variáveis podem não contribuir significativamente para a análise ou modelagem, tornando-as potencialmente irrelevantes. Além disso, a ausência total de dados pode dificultar ou impossibilitar a imputação de valores, levando à escolha de exclusão como uma alternativa.\n",
    "\n",
    "Essa decisão visa aprimorar a qualidade do conjunto de dados, eliminando variáveis sem informações úteis e simplificando o processo de análise. Vale ressaltar que a exclusão foi realizada com o intuito de melhorar a eficiência computacional, atender aos requisitos do modelo e evitar possíveis distorções nos resultados.\n",
    "\n",
    "Acho importante documentar transparentemente essas decisões, garantindo uma abordagem metodológica rigorosa no processo de análise de dados. A exclusão dessas variáveis busca otimizar o conjunto de dados para análises mais relevantes e eficazes."
   ]
  },
  {
   "cell_type": "code",
   "execution_count": 12,
   "metadata": {},
   "outputs": [
    {
     "name": "stdout",
     "output_type": "stream",
     "text": [
      "NUMERO_BOLETIM_PRINCIPAL = 1517782\n",
      "EXAME = 1271651\n",
      "DESDOBRAMENTO = 1594405\n",
      "TIPOPESSOA = 1693625\n",
      "VITIMAFATAL = 1693625\n",
      "NATURALIDADE = 1696873\n",
      "NACIONALIDADE = 1697599\n",
      "SEXO = 1693749\n",
      "DATANASCIMENTO = 1696042\n",
      "IDADE = 1695862\n",
      "ESTADOCIVIL = 1697040\n",
      "PROFISSAO = 1698855\n",
      "GRAUINSTRUCAO = 1698904\n",
      "CORCUTIS = 1694659\n",
      "NATUREZAVINCULADA = 1693625\n",
      "TIPOVINCULO = 1693625\n",
      "RELACIONAMENTO = 1702342\n",
      "PARENTESCO = 1702378\n",
      "QUANT_CELULAR = 1702378\n",
      "MARCA_CELULAR = 1702378\n"
     ]
    }
   ],
   "source": [
    "# Obtém o nome das colunas\n",
    "colunas = dataset.columns\n",
    "\n",
    "# Verifica se há valores com mais de 70% de ausentes em cada coluna e exclui\n",
    "# Itera sobre cada coluna na lista de colunas\n",
    "for coluna in colunas:\n",
    "    # Calcula o percentual de valores ausentes na coluna atual\n",
    "    percentual_ausentes = (dataset[coluna].isna().sum() / len(dataset)) * 100\n",
    "    # Verifica se o percentual de valores ausentes é maior ou igual a 70%\n",
    "    if percentual_ausentes >= 70:\n",
    "        # Imprime o nome da coluna e o número de valores ausentes nela\n",
    "        print(f\"{coluna} = {dataset[coluna].isna().sum()}\")\n",
    "        # Remove a coluna do DataFrame se o percentual de ausência for alto\n",
    "        dataset.drop([coluna], axis=1, inplace=True)"
   ]
  },
  {
   "cell_type": "code",
   "execution_count": 13,
   "metadata": {},
   "outputs": [
    {
     "data": {
      "text/plain": [
       "(1702378, 34)"
      ]
     },
     "execution_count": 13,
     "metadata": {},
     "output_type": "execute_result"
    }
   ],
   "source": [
    "# Verificando quantidade de linhas e colunas com a função shape\n",
    "dataset.shape"
   ]
  },
  {
   "cell_type": "code",
   "execution_count": 14,
   "metadata": {},
   "outputs": [
    {
     "name": "stdout",
     "output_type": "stream",
     "text": [
      "ANO_BO                      0.0\n",
      "NUM_BO                      0.0\n",
      "NUMERO_BOLETIM              0.0\n",
      "BO_INICIADO                 0.0\n",
      "BO_EMITIDO                  0.0\n",
      "DATAOCORRENCIA              0.0\n",
      "HORAOCORRENCIA              6.0\n",
      "PERIDOOCORRENCIA            0.0\n",
      "DATACOMUNICACAO             0.0\n",
      "DATAELABORACAO              0.0\n",
      "BO_AUTORIA                  0.0\n",
      "FLAGRANTE                   0.0\n",
      "LOGRADOURO                  9.0\n",
      "NUMERO                      0.0\n",
      "BAIRRO                      6.0\n",
      "CIDADE                      0.0\n",
      "UF                          0.0\n",
      "LATITUDE                   12.0\n",
      "LONGITUDE                  12.0\n",
      "DESCRICAOLOCAL              0.0\n",
      "SOLUCAO                     0.0\n",
      "DELEGACIA_NOME              0.0\n",
      "DELEGACIA_CIRCUNSCRICAO     0.0\n",
      "ESPECIE                     0.0\n",
      "RUBRICA                     0.0\n",
      "STATUS                      4.0\n",
      "PLACA_VEICULO              29.0\n",
      "UF_VEICULO                 28.0\n",
      "CIDADE_VEICULO             29.0\n",
      "DESCR_COR_VEICULO          28.0\n",
      "DESCR_MARCA_VEICULO        29.0\n",
      "ANO_FABRICACAO              1.0\n",
      "ANO_MODELO                  5.0\n",
      "DESCR_TIPO_VEICULO         28.0\n",
      "dtype: float64\n"
     ]
    }
   ],
   "source": [
    "# Calcula a porcentagem de valores ausentes em cada coluna do DataFrame 'dataset'\n",
    "percentagem_valores_ausentes = dataset.isna().sum() / len(dataset) * 100\n",
    "# Arredonda as porcentagens para números inteiros\n",
    "percentagem_valores_ausentes_arredondada = percentagem_valores_ausentes.round()\n",
    "# Imprime as porcentagens arredondadas\n",
    "print(percentagem_valores_ausentes_arredondada)"
   ]
  },
  {
   "cell_type": "markdown",
   "metadata": {},
   "source": [
    "Seguiremos com a exclusão de dados duplicados com base na metodologia da Secretaria de Segurança Pública de São Paulo pode ser justificada pelos seguintes motivos:\n",
    "\n",
    "* Garantia da Qualidade dos Dados: \n",
    "\n",
    "A exclusão de duplicatas ajuda a garantir a qualidade dos dados, pois elimina registros repetidos que podem distorcer análises estatísticas e conclusões derivadas dos dados.\n",
    "\n",
    "* Evita Viés nos Resultados: \n",
    "\n",
    "A presença de duplicatas pode distorcer as conclusões tiradas a partir dos dados, levando a resultados enviesados ou imprecisos. A remoção das duplicatas garante que as análises sejam baseadas em informações únicas e não duplicadas.\n",
    "\n",
    "* Consistência nas Estatísticas: \n",
    "\n",
    "Ao remover duplicatas, as estatísticas e métricas derivadas dos dados serão mais consistentes e representativas da realidade, permitindo uma interpretação mais confiável dos resultados.\n",
    "\n",
    "* Simplicidade na Análise: \n",
    "\n",
    "A exclusão de duplicatas simplifica o processo de análise, uma vez que reduz o número de registros a serem considerados, facilitando a interpretação e compreensão dos dados.\n",
    "\n",
    "* Conformidade com Padrões de Relatórios: \n",
    "\n",
    "A remoção de duplicatas pode ser um requisito padrão ou recomendado em relatórios oficiais ou análises estatísticas, garantindo a conformidade com os padrões estabelecidos pela Secretaria de Segurança Pública de São Paulo ou outras autoridades relevantes.\n",
    "\n",
    "Em resumo, a exclusão de dados duplicados baseia-se na necessidade de garantir a qualidade, precisão e confiabilidade dos dados, bem como na conformidade com os padrões e metodologias estabelecidos pelas autoridades competentes, como a Secretaria de Segurança Pública de São Paulo."
   ]
  },
  {
   "cell_type": "code",
   "execution_count": 15,
   "metadata": {},
   "outputs": [
    {
     "data": {
      "text/plain": [
       "51.25119098108646"
      ]
     },
     "execution_count": 15,
     "metadata": {},
     "output_type": "execute_result"
    }
   ],
   "source": [
    "# Verificando e contando as linhas duplicadas no DataFrame 'novo_dataset'\n",
    "dataset.duplicated(subset=[\"DELEGACIA_NOME\", \"ANO_BO\", \"NUM_BO\"]).sum() / len(dataset) * 100"
   ]
  },
  {
   "cell_type": "markdown",
   "metadata": {},
   "source": [
    "Analisei o conjunto de dados e identifiquei que 51,25% das entradas são duplicadas. Diante desse cenário, torna-se evidente a necessidade de proceder com a exclusão desses dados duplicados. Este passo é crucial para garantir a integridade e confiabilidade das análises, evitando distorções nos resultados e proporcionando uma visão mais precisa do conjunto de dados."
   ]
  },
  {
   "cell_type": "code",
   "execution_count": 16,
   "metadata": {},
   "outputs": [],
   "source": [
    "# Remover duplicatas com base nos campos DELEGACIA_NOME, ANO_BO e NUM_BO\n",
    "dataset = dataset.drop_duplicates(subset=[\"DELEGACIA_NOME\", \"ANO_BO\", \"NUM_BO\"])"
   ]
  },
  {
   "cell_type": "code",
   "execution_count": 17,
   "metadata": {},
   "outputs": [
    {
     "data": {
      "text/plain": [
       "(829889, 34)"
      ]
     },
     "execution_count": 17,
     "metadata": {},
     "output_type": "execute_result"
    }
   ],
   "source": [
    "dataset.shape"
   ]
  },
  {
   "cell_type": "code",
   "execution_count": 18,
   "metadata": {},
   "outputs": [
    {
     "data": {
      "text/plain": [
       "0.0"
      ]
     },
     "execution_count": 18,
     "metadata": {},
     "output_type": "execute_result"
    }
   ],
   "source": [
    "# Verificando e contando as linhas duplicadas no DataFrame 'novo_dataset'\n",
    "dataset.duplicated().sum() / len(dataset) * 100"
   ]
  },
  {
   "cell_type": "markdown",
   "metadata": {},
   "source": [
    "A exclusão de determinadas colunas do conjunto de dados foi uma decisão baseada em critérios específicos visando otimizar a qualidade e relevância da análise. Colunas consideradas não relevantes foram removidas, uma vez que não contribuíam diretamente para os objetivos da análise ou modelagem em curso. Essas variáveis não forneciam informações significativas para a compreensão do problema em questão e, em alguns casos, apresentavam ausência total de variação.\n",
    "\n",
    "A escolha pela exclusão dessas colunas foi também motivada pela presença de valores ausentes em quantidade significativa, tornando a imputação desses valores desafiadora e, em alguns casos, inviável. A decisão de simplificar o conjunto de dados busca não apenas melhorar a eficiência computacional da análise, mas também assegurar que a interpretação dos resultados seja mais clara e focada nas variáveis verdadeiramente relevantes para os objetivos do projeto.\n",
    "\n",
    "Essa prática segue padrões comuns de pré-processamento de dados, visando garantir a qualidade e a consistência dos resultados finais. A documentação transparente dessas decisões é parte integrante do processo analítico, proporcionando transparência, replicabilidade e confiança nos resultados obtidos."
   ]
  },
  {
   "cell_type": "code",
   "execution_count": 19,
   "metadata": {},
   "outputs": [],
   "source": [
    "colunas_para_remover = ['NUM_BO','BO_INICIADO','BO_EMITIDO','BO_AUTORIA', 'FLAGRANTE', 'NUMERO_BOLETIM', 'DESCRICAOLOCAL', \n",
    "                        'DELEGACIA_NOME', 'DELEGACIA_CIRCUNSCRICAO', 'ESPECIE', \n",
    "                        'RUBRICA', 'STATUS', 'ANO_FABRICACAO', 'ANO_MODELO','SOLUCAO',\n",
    "                        'DATACOMUNICACAO','DESCR_MARCA_VEICULO','DESCR_COR_VEICULO',\n",
    "                        'CIDADE_VEICULO','UF_VEICULO','PLACA_VEICULO','DESCR_TIPO_VEICULO','UF','LATITUDE','LONGITUDE','LOGRADOURO','NUMERO','HORAOCORRENCIA', 'DATAELABORACAO'] #'BAIRRO'\n",
    "\n",
    "# Removendo as colunas especificadas do novo_dataset\n",
    "dataset.drop(colunas_para_remover, axis=1, inplace=True)"
   ]
  },
  {
   "cell_type": "code",
   "execution_count": 20,
   "metadata": {},
   "outputs": [
    {
     "name": "stdout",
     "output_type": "stream",
     "text": [
      "ANO_BO              0.0\n",
      "DATAOCORRENCIA      0.0\n",
      "PERIDOOCORRENCIA    0.0\n",
      "BAIRRO              7.0\n",
      "CIDADE              0.0\n",
      "dtype: float64\n"
     ]
    }
   ],
   "source": [
    "# Calcula a porcentagem de valores ausentes em cada coluna do DataFrame 'dataset'\n",
    "percentagem_valores_ausentes = dataset.isna().sum() / len(dataset) * 100\n",
    "# Arredonda as porcentagens para números inteiros\n",
    "percentagem_valores_ausentes_arredondada = percentagem_valores_ausentes.round()\n",
    "# Imprime as porcentagens arredondadas\n",
    "print(percentagem_valores_ausentes_arredondada)"
   ]
  },
  {
   "cell_type": "code",
   "execution_count": 21,
   "metadata": {},
   "outputs": [
    {
     "data": {
      "text/plain": [
       "(829889, 5)"
      ]
     },
     "execution_count": 21,
     "metadata": {},
     "output_type": "execute_result"
    }
   ],
   "source": [
    "dataset.shape"
   ]
  },
  {
   "cell_type": "code",
   "execution_count": 22,
   "metadata": {},
   "outputs": [
    {
     "data": {
      "text/plain": [
       "CIDADE\n",
       "S.PAULO                  390926\n",
       "CAMPINAS                  41406\n",
       "S.BERNARDO DO CAMPO       32983\n",
       "S.ANDRE                   31923\n",
       "GUARULHOS                 31446\n",
       "DIADEMA                   28012\n",
       "OSASCO                    18948\n",
       "MAUA                      17209\n",
       "ITAQUAQUECETUBA           11766\n",
       "RIBEIRAO PRETO             9952\n",
       "SUZANO                     9145\n",
       "S.JOSE DOS CAMPOS          8854\n",
       "SUMARE                     7298\n",
       "JUNDIAI                    7238\n",
       "PRAIA GRANDE               7172\n",
       "SOROCABA                   7068\n",
       "CARAPICUIBA                6828\n",
       "TABOAO DA SERRA            6721\n",
       "FERRAZ DE VASCONCELOS      6572\n",
       "HORTOLANDIA                6009\n",
       "Name: count, dtype: int64"
      ]
     },
     "execution_count": 22,
     "metadata": {},
     "output_type": "execute_result"
    }
   ],
   "source": [
    "# Calcula a contagem de ocorrências para cada valor único na coluna 'CIDADE'\n",
    "dataset['CIDADE'].value_counts().head(20)"
   ]
  },
  {
   "cell_type": "code",
   "execution_count": 23,
   "metadata": {},
   "outputs": [],
   "source": [
    "# Filtra o DataFrame para incluir apenas as linhas onde o valor da coluna 'CIDADE' é igual a 'S.PAULO'\n",
    "dataset = dataset[dataset['CIDADE'] == 'S.PAULO']"
   ]
  },
  {
   "cell_type": "code",
   "execution_count": 24,
   "metadata": {},
   "outputs": [
    {
     "name": "stdout",
     "output_type": "stream",
     "text": [
      "ANO_BO              0.0\n",
      "DATAOCORRENCIA      0.0\n",
      "PERIDOOCORRENCIA    0.0\n",
      "BAIRRO              9.0\n",
      "CIDADE              0.0\n",
      "dtype: float64\n"
     ]
    }
   ],
   "source": [
    "# Calcula a porcentagem de valores ausentes em cada coluna do DataFrame 'dataset'\n",
    "percentagem_valores_ausentes = dataset.isna().sum() / len(dataset) * 100\n",
    "# Arredonda as porcentagens para números inteiros\n",
    "percentagem_valores_ausentes_arredondada = percentagem_valores_ausentes.round()\n",
    "# Imprime as porcentagens arredondadas\n",
    "print(percentagem_valores_ausentes_arredondada)"
   ]
  },
  {
   "cell_type": "markdown",
   "metadata": {},
   "source": [
    "Agora que as variáveis de trabalho foram definidas, podemos proceder com o tratamento individual de cada uma delas, visando alcançar os resultados mais eficazes. Este processo envolverá a aplicação de técnicas específicas para cada variável, otimizando sua qualidade e preparando-as adequadamente para as análises subsequentes. A abordagem individualizada visa assegurar que cada variável seja tratada de maneira apropriada, contribuindo para a robustez e confiabilidade dos resultados finais."
   ]
  },
  {
   "cell_type": "markdown",
   "metadata": {},
   "source": [
    "# Pré-processamento Variável a Variável"
   ]
  },
  {
   "cell_type": "markdown",
   "metadata": {},
   "source": [
    "Primeiro tratarei da variavel ANO_BO. \n",
    "\n",
    "Verificando a existencia de outliers."
   ]
  },
  {
   "cell_type": "code",
   "execution_count": 25,
   "metadata": {},
   "outputs": [
    {
     "data": {
      "text/html": [
       "<div>\n",
       "<style scoped>\n",
       "    .dataframe tbody tr th:only-of-type {\n",
       "        vertical-align: middle;\n",
       "    }\n",
       "\n",
       "    .dataframe tbody tr th {\n",
       "        vertical-align: top;\n",
       "    }\n",
       "\n",
       "    .dataframe thead th {\n",
       "        text-align: right;\n",
       "    }\n",
       "</style>\n",
       "<table border=\"1\" class=\"dataframe\">\n",
       "  <thead>\n",
       "    <tr style=\"text-align: right;\">\n",
       "      <th></th>\n",
       "      <th>ANO_BO</th>\n",
       "      <th>DATAOCORRENCIA</th>\n",
       "      <th>PERIDOOCORRENCIA</th>\n",
       "      <th>BAIRRO</th>\n",
       "      <th>CIDADE</th>\n",
       "    </tr>\n",
       "  </thead>\n",
       "  <tbody>\n",
       "    <tr>\n",
       "      <th>6</th>\n",
       "      <td>2011</td>\n",
       "      <td>2011-12-31 00:00:00</td>\n",
       "      <td>A NOITE</td>\n",
       "      <td>PQ SAO RAFAEL</td>\n",
       "      <td>S.PAULO</td>\n",
       "    </tr>\n",
       "    <tr>\n",
       "      <th>7</th>\n",
       "      <td>2012</td>\n",
       "      <td>2011-12-31 00:00:00</td>\n",
       "      <td>A NOITE</td>\n",
       "      <td>JD SÃO JOÃO</td>\n",
       "      <td>S.PAULO</td>\n",
       "    </tr>\n",
       "    <tr>\n",
       "      <th>9</th>\n",
       "      <td>2011</td>\n",
       "      <td>2011-12-31 00:00:00</td>\n",
       "      <td>A NOITE</td>\n",
       "      <td>PQ. IPÊ</td>\n",
       "      <td>S.PAULO</td>\n",
       "    </tr>\n",
       "    <tr>\n",
       "      <th>11</th>\n",
       "      <td>2012</td>\n",
       "      <td>2011-12-31 00:00:00</td>\n",
       "      <td>A NOITE</td>\n",
       "      <td>NaN</td>\n",
       "      <td>S.PAULO</td>\n",
       "    </tr>\n",
       "    <tr>\n",
       "      <th>12</th>\n",
       "      <td>2012</td>\n",
       "      <td>2011-12-31 00:00:00</td>\n",
       "      <td>A NOITE</td>\n",
       "      <td>JD. ITAMARATI</td>\n",
       "      <td>S.PAULO</td>\n",
       "    </tr>\n",
       "  </tbody>\n",
       "</table>\n",
       "</div>"
      ],
      "text/plain": [
       "    ANO_BO       DATAOCORRENCIA PERIDOOCORRENCIA         BAIRRO   CIDADE\n",
       "6     2011  2011-12-31 00:00:00          A NOITE  PQ SAO RAFAEL  S.PAULO\n",
       "7     2012  2011-12-31 00:00:00          A NOITE    JD SÃO JOÃO  S.PAULO\n",
       "9     2011  2011-12-31 00:00:00          A NOITE        PQ. IPÊ  S.PAULO\n",
       "11    2012  2011-12-31 00:00:00          A NOITE            NaN  S.PAULO\n",
       "12    2012  2011-12-31 00:00:00          A NOITE  JD. ITAMARATI  S.PAULO"
      ]
     },
     "execution_count": 25,
     "metadata": {},
     "output_type": "execute_result"
    }
   ],
   "source": [
    "dataset.head()"
   ]
  },
  {
   "cell_type": "code",
   "execution_count": 26,
   "metadata": {},
   "outputs": [
    {
     "data": {
      "text/plain": [
       "ANO_BO\n",
       "2011        2\n",
       "2012    49301\n",
       "2013    55949\n",
       "2014    55288\n",
       "2015    44269\n",
       "2016    43183\n",
       "2017    36401\n",
       "2018    30559\n",
       "2019    24221\n",
       "2020    15922\n",
       "2021    15024\n",
       "2022    20693\n",
       "2023      114\n",
       "Name: count, dtype: int64"
      ]
     },
     "execution_count": 26,
     "metadata": {},
     "output_type": "execute_result"
    }
   ],
   "source": [
    "dataset['ANO_BO'].value_counts().sort_index()"
   ]
  },
  {
   "cell_type": "markdown",
   "metadata": {},
   "source": [
    "Uma análise inicial dos dados revela uma distribuição das ocorrências ao longo dos anos. Observa-se uma quantidade considerável de ocorrências registradas nos anos de 2012 e 2013, com 49.301 e 55.949 ocorrências, respectivamente. Estes números diminuem gradualmente nos anos subsequentes, com uma queda acentuada em 2019 e 2020, onde o número de ocorrências é de 24.221 e 15.922, respectivamente.\n",
    "\n",
    "Entretanto, ao examinar os dados mais detalhadamente, notei valores surpreendentemente baixos de ocorrências registradas em 2011, totalizando apenas 2 ocorrências, e em 2023, totalizando apenas 114 ocorrências. Estes valores destoam significativamente dos padrões observados nos anos anteriores. Considerando que estou focando na análise dos anos de 2012 a 2022, excluirei os dados de 2011 e 2023 da nossa análise, uma vez que não são relevantes para o período de estudo.\n",
    "\n",
    "- 2011: 2 ocorrências\n",
    "- 2023: 114 ocorrências\n",
    "\n",
    "Essa exclusão permite uma análise mais precisa e relevante para o período em estudo, garantindo que minha análise seja mais focada nos padrões e tendências observados nos anos analisados, de 2012 a 2022."
   ]
  },
  {
   "cell_type": "code",
   "execution_count": 27,
   "metadata": {},
   "outputs": [],
   "source": [
    "# Filtro para excluir as linhas em que o valor da coluna 'ANO_BO' seja igual a 2011\n",
    "dataset = dataset.loc[dataset['ANO_BO'] != 2011]\n",
    "\n",
    "# Filtro para excluir as linhas em que o valor da coluna 'ANO_BO' seja igual a 2023\n",
    "dataset = dataset.loc[dataset['ANO_BO'] != 2023]"
   ]
  },
  {
   "cell_type": "markdown",
   "metadata": {},
   "source": [
    "Para garantir consistência, efetuei a conversão desses dados para o tipo 'int64', assegurando que todos os valores na coluna 'ANO_BO' sejam do mesmo tipo numérico."
   ]
  },
  {
   "cell_type": "code",
   "execution_count": 28,
   "metadata": {},
   "outputs": [
    {
     "data": {
      "text/plain": [
       "ANO_BO\n",
       "2012    49301\n",
       "2013    55949\n",
       "2014    55288\n",
       "2015    44269\n",
       "2016    43183\n",
       "2017    36401\n",
       "2018    30559\n",
       "2019    24221\n",
       "2020    15922\n",
       "2021    15024\n",
       "2022    20693\n",
       "Name: count, dtype: int64"
      ]
     },
     "execution_count": 28,
     "metadata": {},
     "output_type": "execute_result"
    }
   ],
   "source": [
    "# Convertendo a coluna 'ANO_BO' para tipo numérico (int)\n",
    "dataset['ANO_BO'] = pd.to_numeric(dataset['ANO_BO'], errors='coerce')\n",
    "\n",
    "# Contando a ocorrência de valores únicos na coluna 'ANO_BO' e ordenando\n",
    "dataset['ANO_BO'].value_counts().sort_index()"
   ]
  },
  {
   "cell_type": "markdown",
   "metadata": {},
   "source": [
    "O código em questão realiza operações de pré-processamento em uma coluna chamada 'DATAOCORRENCIA' em um conjunto de dados denominado novo_dataset. \n",
    "\n",
    "Primeiramente, são excluídas as linhas em que o valor da coluna é '00:00:00', indicando possivelmente registros onde a hora específica não é relevante para a análise. \n",
    "\n",
    "Em seguida, a coluna 'DATAOCORRENCIA' é convertida para o formato de data e hora desejado ('%Y-%m-%d %H:%M:%S') usando a biblioteca Pandas."
   ]
  },
  {
   "cell_type": "code",
   "execution_count": 29,
   "metadata": {},
   "outputs": [],
   "source": [
    "# Excluindo as linhas onde 'DATAOCORRENCIA' é '00:00:00'\n",
    "dataset = dataset[dataset['DATAOCORRENCIA'] != '00:00:00']\n",
    "\n",
    "# Convertendo 'DATAOCORRENCIA' para formato de data e hora desejado (por exemplo, '2003-01-01 00:00:00')\n",
    "dataset['DATAOCORRENCIA'] = pd.to_datetime(dataset['DATAOCORRENCIA'], format='%Y-%m-%d %H:%M:%S', errors='coerce')\n",
    "\n",
    "# Se necessário, resetar o índice\n",
    "dataset.reset_index(drop=True, inplace=True)"
   ]
  },
  {
   "cell_type": "code",
   "execution_count": 30,
   "metadata": {},
   "outputs": [
    {
     "name": "stdout",
     "output_type": "stream",
     "text": [
      "<class 'pandas.core.frame.DataFrame'>\n",
      "RangeIndex: 390810 entries, 0 to 390809\n",
      "Data columns (total 5 columns):\n",
      " #   Column            Non-Null Count   Dtype         \n",
      "---  ------            --------------   -----         \n",
      " 0   ANO_BO            390810 non-null  int64         \n",
      " 1   DATAOCORRENCIA    390807 non-null  datetime64[ns]\n",
      " 2   PERIDOOCORRENCIA  390810 non-null  object        \n",
      " 3   BAIRRO            356852 non-null  object        \n",
      " 4   CIDADE            390810 non-null  object        \n",
      "dtypes: datetime64[ns](1), int64(1), object(3)\n",
      "memory usage: 14.9+ MB\n"
     ]
    }
   ],
   "source": [
    "dataset.info()"
   ]
  },
  {
   "cell_type": "code",
   "execution_count": 31,
   "metadata": {},
   "outputs": [
    {
     "data": {
      "text/html": [
       "<div>\n",
       "<style scoped>\n",
       "    .dataframe tbody tr th:only-of-type {\n",
       "        vertical-align: middle;\n",
       "    }\n",
       "\n",
       "    .dataframe tbody tr th {\n",
       "        vertical-align: top;\n",
       "    }\n",
       "\n",
       "    .dataframe thead th {\n",
       "        text-align: right;\n",
       "    }\n",
       "</style>\n",
       "<table border=\"1\" class=\"dataframe\">\n",
       "  <thead>\n",
       "    <tr style=\"text-align: right;\">\n",
       "      <th></th>\n",
       "      <th>ANO_BO</th>\n",
       "      <th>DATAOCORRENCIA</th>\n",
       "      <th>PERIDOOCORRENCIA</th>\n",
       "      <th>BAIRRO</th>\n",
       "      <th>CIDADE</th>\n",
       "    </tr>\n",
       "  </thead>\n",
       "  <tbody>\n",
       "    <tr>\n",
       "      <th>0</th>\n",
       "      <td>2012</td>\n",
       "      <td>2011-12-31</td>\n",
       "      <td>A NOITE</td>\n",
       "      <td>JD SÃO JOÃO</td>\n",
       "      <td>S.PAULO</td>\n",
       "    </tr>\n",
       "    <tr>\n",
       "      <th>1</th>\n",
       "      <td>2012</td>\n",
       "      <td>2011-12-31</td>\n",
       "      <td>A NOITE</td>\n",
       "      <td>NaN</td>\n",
       "      <td>S.PAULO</td>\n",
       "    </tr>\n",
       "    <tr>\n",
       "      <th>2</th>\n",
       "      <td>2012</td>\n",
       "      <td>2011-12-31</td>\n",
       "      <td>A NOITE</td>\n",
       "      <td>JD. ITAMARATI</td>\n",
       "      <td>S.PAULO</td>\n",
       "    </tr>\n",
       "    <tr>\n",
       "      <th>3</th>\n",
       "      <td>2012</td>\n",
       "      <td>2011-12-31</td>\n",
       "      <td>A NOITE</td>\n",
       "      <td>JARDIM IGUATEMI</td>\n",
       "      <td>S.PAULO</td>\n",
       "    </tr>\n",
       "    <tr>\n",
       "      <th>4</th>\n",
       "      <td>2012</td>\n",
       "      <td>2012-01-01</td>\n",
       "      <td>DE MADRUGADA</td>\n",
       "      <td>AMERICANOPOLIS</td>\n",
       "      <td>S.PAULO</td>\n",
       "    </tr>\n",
       "  </tbody>\n",
       "</table>\n",
       "</div>"
      ],
      "text/plain": [
       "   ANO_BO DATAOCORRENCIA PERIDOOCORRENCIA           BAIRRO   CIDADE\n",
       "0    2012     2011-12-31          A NOITE      JD SÃO JOÃO  S.PAULO\n",
       "1    2012     2011-12-31          A NOITE              NaN  S.PAULO\n",
       "2    2012     2011-12-31          A NOITE    JD. ITAMARATI  S.PAULO\n",
       "3    2012     2011-12-31          A NOITE  JARDIM IGUATEMI  S.PAULO\n",
       "4    2012     2012-01-01     DE MADRUGADA   AMERICANOPOLIS  S.PAULO"
      ]
     },
     "execution_count": 31,
     "metadata": {},
     "output_type": "execute_result"
    }
   ],
   "source": [
    "dataset.head()"
   ]
  },
  {
   "cell_type": "markdown",
   "metadata": {},
   "source": [
    "Convertendo a coluna 'HORAOCORRENCIA' para o tipo datetime.time\n",
    "\n",
    "- Motivação: \n",
    "        \n",
    "    A conversão é realizada para facilitar a manipulação e análise dos horários das ocorrências. \n",
    "    Ao converter os valores para o tipo de dados datetime.time, posso realizar operações relacionadas a datas e horários e garantir que os valores estejam corretamente interpretados.\n",
    "    O parâmetro 'format' é utilizado para especificar o formato das horas, minutos e segundos presentes na string original, garantindo que o Pandas interprete corretamente os valores de hora na string.\n",
    "    O parâmetro 'errors' é configurado como 'coerce' para lidar com valores inválidos ou impossíveis de serem convertidos, definindo-os como 'NaT' (Not a Time) caso ocorram.\n",
    "    Por fim, o componente de tempo do objeto datetime é atribuído de volta à coluna 'HORAOCORRENCIA', convertendo-a para o tipo datetime.time.\n"
   ]
  },
  {
   "cell_type": "code",
   "execution_count": 32,
   "metadata": {},
   "outputs": [],
   "source": [
    "# Criando novas colunas 'DATA_ELABORACAO' e 'HORA_ELABORACAO'\n",
    "# novo_dataset[['DATA_ELABORACAO', 'HORA_ELABORACAO']] = novo_dataset['DATAELABORACAO'].str.split(' ', n=1, expand=True)\n",
    "\n",
    "# Convertendo a coluna 'HORAOCORRENCIA' para o formato de data\n",
    "#novo_dataset['HORAOCORRENCIA'] = pd.to_datetime(novo_dataset['HORAOCORRENCIA'], format='%H:%M:%S').dt.time"
   ]
  },
  {
   "cell_type": "code",
   "execution_count": 33,
   "metadata": {},
   "outputs": [],
   "source": [
    "# Removendo as datas anteriores a 2012\n",
    "dataset = dataset[dataset['DATAOCORRENCIA'].dt.year >= 2012]"
   ]
  },
  {
   "cell_type": "markdown",
   "metadata": {},
   "source": [
    "Alterando nome coluna PERIDOOCORRENCIA para PERIODOOCORRENCIA.\n",
    "\n",
    "- Motivação: \n",
    "\n",
    "    Essa alteração é importante para manter a consistência nos dados e evitar confusões ao referenciar a coluna em análises posteriores. \n",
    "    \n",
    "    Certificar-se de que o nome da coluna está correto e claro é uma boa prática para garantir a qualidade e a interpretabilidade dos conjuntos de dados."
   ]
  },
  {
   "cell_type": "code",
   "execution_count": 34,
   "metadata": {},
   "outputs": [],
   "source": [
    "# A linha abaixo cria uma nova coluna chamada 'PERIODOOCORRENCIA' e atribui a ela os valores da coluna 'PERIDOOCORRENCIA' do dataset\n",
    "dataset['PERIODOOCORRENCIA'] = dataset['PERIDOOCORRENCIA']\n",
    "\n",
    "# A linha abaixo remove a coluna 'PERIDOOCORRENCIA' do dataset, conforme solicitado anteriormente\n",
    "dataset.drop([\"PERIDOOCORRENCIA\"], axis=1, inplace=True)"
   ]
  },
  {
   "cell_type": "code",
   "execution_count": 35,
   "metadata": {},
   "outputs": [
    {
     "data": {
      "text/plain": [
       "PERIODOOCORRENCIA\n",
       "A NOITE            184768\n",
       "A TARDE             74446\n",
       "DE MADRUGADA        52139\n",
       "EM HORA INCERTA       346\n",
       "PELA MANHÃ          78278\n",
       "Name: count, dtype: int64"
      ]
     },
     "execution_count": 35,
     "metadata": {},
     "output_type": "execute_result"
    }
   ],
   "source": [
    "# Criar uma agregação personalizada contando ocorrências de cada valor na coluna 'PERIDOOCORRENCIA' e ordenando pelo índice\n",
    "agregado_personalizado = dataset['PERIODOOCORRENCIA'].value_counts().sort_index()\n",
    "agregado_personalizado"
   ]
  },
  {
   "cell_type": "code",
   "execution_count": 36,
   "metadata": {},
   "outputs": [],
   "source": [
    "# Filtro para excluir as linhas em que o valor da coluna 'PERIODOOCORRENCIA' seja igual a 'EM HORA INCERTA'\n",
    "# novo_dataset = novo_dataset.loc[novo_dataset['PERIODOOCORRENCIA'] != 'EM HORA INCERTA']"
   ]
  },
  {
   "cell_type": "code",
   "execution_count": 37,
   "metadata": {},
   "outputs": [
    {
     "data": {
      "text/html": [
       "<div>\n",
       "<style scoped>\n",
       "    .dataframe tbody tr th:only-of-type {\n",
       "        vertical-align: middle;\n",
       "    }\n",
       "\n",
       "    .dataframe tbody tr th {\n",
       "        vertical-align: top;\n",
       "    }\n",
       "\n",
       "    .dataframe thead th {\n",
       "        text-align: right;\n",
       "    }\n",
       "</style>\n",
       "<table border=\"1\" class=\"dataframe\">\n",
       "  <thead>\n",
       "    <tr style=\"text-align: right;\">\n",
       "      <th></th>\n",
       "      <th>ANO_BO</th>\n",
       "      <th>DATAOCORRENCIA</th>\n",
       "      <th>BAIRRO</th>\n",
       "      <th>CIDADE</th>\n",
       "      <th>PERIODOOCORRENCIA</th>\n",
       "    </tr>\n",
       "  </thead>\n",
       "  <tbody>\n",
       "    <tr>\n",
       "      <th>4</th>\n",
       "      <td>2012</td>\n",
       "      <td>2012-01-01</td>\n",
       "      <td>AMERICANOPOLIS</td>\n",
       "      <td>S.PAULO</td>\n",
       "      <td>DE MADRUGADA</td>\n",
       "    </tr>\n",
       "    <tr>\n",
       "      <th>5</th>\n",
       "      <td>2012</td>\n",
       "      <td>2012-01-01</td>\n",
       "      <td>PQ SAO RAFAEL</td>\n",
       "      <td>S.PAULO</td>\n",
       "      <td>DE MADRUGADA</td>\n",
       "    </tr>\n",
       "    <tr>\n",
       "      <th>8</th>\n",
       "      <td>2012</td>\n",
       "      <td>2012-01-01</td>\n",
       "      <td>JARDIM RODOLFO PIRANI</td>\n",
       "      <td>S.PAULO</td>\n",
       "      <td>DE MADRUGADA</td>\n",
       "    </tr>\n",
       "    <tr>\n",
       "      <th>9</th>\n",
       "      <td>2012</td>\n",
       "      <td>2012-01-01</td>\n",
       "      <td>JD. SAPOPEMBA</td>\n",
       "      <td>S.PAULO</td>\n",
       "      <td>DE MADRUGADA</td>\n",
       "    </tr>\n",
       "    <tr>\n",
       "      <th>10</th>\n",
       "      <td>2012</td>\n",
       "      <td>2012-01-01</td>\n",
       "      <td>EDU CHAVES</td>\n",
       "      <td>S.PAULO</td>\n",
       "      <td>DE MADRUGADA</td>\n",
       "    </tr>\n",
       "  </tbody>\n",
       "</table>\n",
       "</div>"
      ],
      "text/plain": [
       "    ANO_BO DATAOCORRENCIA                 BAIRRO   CIDADE PERIODOOCORRENCIA\n",
       "4     2012     2012-01-01         AMERICANOPOLIS  S.PAULO      DE MADRUGADA\n",
       "5     2012     2012-01-01          PQ SAO RAFAEL  S.PAULO      DE MADRUGADA\n",
       "8     2012     2012-01-01  JARDIM RODOLFO PIRANI  S.PAULO      DE MADRUGADA\n",
       "9     2012     2012-01-01          JD. SAPOPEMBA  S.PAULO      DE MADRUGADA\n",
       "10    2012     2012-01-01             EDU CHAVES  S.PAULO      DE MADRUGADA"
      ]
     },
     "execution_count": 37,
     "metadata": {},
     "output_type": "execute_result"
    }
   ],
   "source": [
    "dataset.head()"
   ]
  },
  {
   "cell_type": "code",
   "execution_count": 38,
   "metadata": {},
   "outputs": [],
   "source": [
    "# Lista que especifica a ordem desejada das colunas\n",
    "dados_organizados = ['ANO_BO','DATAOCORRENCIA','BAIRRO',\n",
    "                     'PERIODOOCORRENCIA','CIDADE'] # ,'LATITUDE','LONGITUDE','LOGRADOURO','NUMERO','BAIRRO'\n",
    "\n",
    "# Reorganizando as colunas do conjunto de dados de acordo com a ordem especificada na lista 'dados_organizados'\n",
    "dataset = dataset.reindex(columns=dados_organizados)"
   ]
  },
  {
   "cell_type": "code",
   "execution_count": 39,
   "metadata": {},
   "outputs": [
    {
     "data": {
      "text/html": [
       "<div>\n",
       "<style scoped>\n",
       "    .dataframe tbody tr th:only-of-type {\n",
       "        vertical-align: middle;\n",
       "    }\n",
       "\n",
       "    .dataframe tbody tr th {\n",
       "        vertical-align: top;\n",
       "    }\n",
       "\n",
       "    .dataframe thead th {\n",
       "        text-align: right;\n",
       "    }\n",
       "</style>\n",
       "<table border=\"1\" class=\"dataframe\">\n",
       "  <thead>\n",
       "    <tr style=\"text-align: right;\">\n",
       "      <th></th>\n",
       "      <th>ANO_BO</th>\n",
       "      <th>DATAOCORRENCIA</th>\n",
       "      <th>BAIRRO</th>\n",
       "      <th>PERIODOOCORRENCIA</th>\n",
       "      <th>CIDADE</th>\n",
       "    </tr>\n",
       "  </thead>\n",
       "  <tbody>\n",
       "    <tr>\n",
       "      <th>4</th>\n",
       "      <td>2012</td>\n",
       "      <td>2012-01-01</td>\n",
       "      <td>AMERICANOPOLIS</td>\n",
       "      <td>DE MADRUGADA</td>\n",
       "      <td>S.PAULO</td>\n",
       "    </tr>\n",
       "    <tr>\n",
       "      <th>5</th>\n",
       "      <td>2012</td>\n",
       "      <td>2012-01-01</td>\n",
       "      <td>PQ SAO RAFAEL</td>\n",
       "      <td>DE MADRUGADA</td>\n",
       "      <td>S.PAULO</td>\n",
       "    </tr>\n",
       "    <tr>\n",
       "      <th>8</th>\n",
       "      <td>2012</td>\n",
       "      <td>2012-01-01</td>\n",
       "      <td>JARDIM RODOLFO PIRANI</td>\n",
       "      <td>DE MADRUGADA</td>\n",
       "      <td>S.PAULO</td>\n",
       "    </tr>\n",
       "    <tr>\n",
       "      <th>9</th>\n",
       "      <td>2012</td>\n",
       "      <td>2012-01-01</td>\n",
       "      <td>JD. SAPOPEMBA</td>\n",
       "      <td>DE MADRUGADA</td>\n",
       "      <td>S.PAULO</td>\n",
       "    </tr>\n",
       "    <tr>\n",
       "      <th>10</th>\n",
       "      <td>2012</td>\n",
       "      <td>2012-01-01</td>\n",
       "      <td>EDU CHAVES</td>\n",
       "      <td>DE MADRUGADA</td>\n",
       "      <td>S.PAULO</td>\n",
       "    </tr>\n",
       "  </tbody>\n",
       "</table>\n",
       "</div>"
      ],
      "text/plain": [
       "    ANO_BO DATAOCORRENCIA                 BAIRRO PERIODOOCORRENCIA   CIDADE\n",
       "4     2012     2012-01-01         AMERICANOPOLIS      DE MADRUGADA  S.PAULO\n",
       "5     2012     2012-01-01          PQ SAO RAFAEL      DE MADRUGADA  S.PAULO\n",
       "8     2012     2012-01-01  JARDIM RODOLFO PIRANI      DE MADRUGADA  S.PAULO\n",
       "9     2012     2012-01-01          JD. SAPOPEMBA      DE MADRUGADA  S.PAULO\n",
       "10    2012     2012-01-01             EDU CHAVES      DE MADRUGADA  S.PAULO"
      ]
     },
     "execution_count": 39,
     "metadata": {},
     "output_type": "execute_result"
    }
   ],
   "source": [
    "dataset.head()"
   ]
  },
  {
   "cell_type": "code",
   "execution_count": 40,
   "metadata": {},
   "outputs": [
    {
     "data": {
      "text/plain": [
       "(389977, 5)"
      ]
     },
     "execution_count": 40,
     "metadata": {},
     "output_type": "execute_result"
    }
   ],
   "source": [
    "dataset.shape"
   ]
  },
  {
   "cell_type": "code",
   "execution_count": 41,
   "metadata": {},
   "outputs": [
    {
     "name": "stdout",
     "output_type": "stream",
     "text": [
      "ANO_BO               0.0\n",
      "DATAOCORRENCIA       0.0\n",
      "BAIRRO               9.0\n",
      "PERIODOOCORRENCIA    0.0\n",
      "CIDADE               0.0\n",
      "dtype: float64\n"
     ]
    }
   ],
   "source": [
    "# Calcula a porcentagem de valores ausentes em cada coluna do DataFrame 'dataset'\n",
    "percentagem_valores_ausentes = dataset.isna().sum() / len(dataset) * 100\n",
    "# Arredonda as porcentagens para números inteiros\n",
    "percentagem_valores_ausentes_arredondada = percentagem_valores_ausentes.round()\n",
    "# Imprime as porcentagens arredondadas\n",
    "print(percentagem_valores_ausentes_arredondada)"
   ]
  },
  {
   "cell_type": "markdown",
   "metadata": {},
   "source": [
    "Tratando os dados nulos restantes.\n",
    "\n",
    "1. **HORAOCORRENCIA**:\n",
    "\n",
    "   - Justificativa: A hora da ocorrência é uma informação essencial para análises temporais e pode influenciar na compreensão dos padrões de ocorrências. Como não há uma maneira confiável de estimar ou preencher os valores nulos, a exclusão desses registros é justificada para preservar a integridade dos dados e garantir a precisão das análises temporais.\n",
    "\n",
    "2. **BAIRRO**:\n",
    "\n",
    "   - Justificativa: Assim como o logradouro, o bairro é uma informação crucial para análises geográficas e pode influenciar na compreensão dos padrões de crimes em áreas específicas. Como não há meios confiáveis de imputar esses dados, a exclusão dos registros nulos é necessária para garantir que as análises geográficas sejam baseadas em dados completos e confiáveis.\n",
    "\n",
    "Em resumo, a exclusão dos valores nulos em cada variável é justificada pela importância das informações ausentes para as análises subsequentes e pela falta de métodos confiáveis para estimar ou preencher esses dados. Essa abordagem visa preservar a integridade e a qualidade dos dados, garantindo resultados precisos e confiáveis em análises posteriores."
   ]
  },
  {
   "cell_type": "code",
   "execution_count": 42,
   "metadata": {},
   "outputs": [],
   "source": [
    "# Remove as linhas que contêm valores nulos em qualquer uma das colunas\n",
    "#novo_dataset.dropna(inplace=True)"
   ]
  },
  {
   "cell_type": "code",
   "execution_count": 43,
   "metadata": {},
   "outputs": [
    {
     "data": {
      "text/plain": [
       "(389977, 5)"
      ]
     },
     "execution_count": 43,
     "metadata": {},
     "output_type": "execute_result"
    }
   ],
   "source": [
    "dataset.shape"
   ]
  },
  {
   "cell_type": "code",
   "execution_count": 44,
   "metadata": {},
   "outputs": [],
   "source": [
    "# Calcula a contagem de ocorrências para cada valor único na coluna 'CIDADE'\n",
    "# dataset['CIDADE'].value_counts().head(20)"
   ]
  },
  {
   "cell_type": "markdown",
   "metadata": {},
   "source": [
    "A cidade de São Paulo foi escolhida como foco devido ao seu status como a maior cidade do estado e por abrigar o maior número de habitantes conforme registrado no ultimo Censo 2010, além de registrar o maior número de ocorrências de roubo de veículos nesse período totalizando 47,10% do total de roubos do estado.\n",
    "\n",
    "Esta decisão foi tomada com base em vários fatores:\n",
    "\n",
    "- Tamanho e Importância:\n",
    "    \n",
    "    São Paulo é a maior cidade do estado, tanto em termos de área geográfica quanto de população. De acordo com o Censo de 2010, a cidade de São Paulo tinha uma população total de aproximadamente 11 milhões de habitantes, distribuídos em seus diversos distritos e subprefeituras. Com suas múltiplas subprefeituras e distritos, cada uma com sua própria área, população e densidade demográfica, a cidade apresenta uma variedade de desafios e oportunidades únicas no contexto da segurança pública e combate à criminalidade.\n",
    "\n",
    "- Alto Número de Ocorrências: \n",
    "    \n",
    "    A análise da contagem de ocorrências por cidade revelou que São Paulo tem um número de roubos nove vezes maior em comparação com Campinas, que ocupa o segundo lugar no ranking de roubos por cidades do estado. Isso indica que São Paulo pode ser uma área de alto risco em termos de criminalidade, exigindo atenção especial das autoridades. Além disso, uma análise mais detalhada dos dados revela que bairros como Ipiranga, Iguatemi, Guaianases, São Mateus e Jabaquara estão entre os mais afetados por roubos, com números significativos de ocorrências. Isso destaca a necessidade de intervenção prioritária nessas áreas para combater a criminalidade e melhorar a segurança pública.\n",
    "\n",
    "- Necessidade de Intervenção Prioritária: \n",
    "    \n",
    "    Dada a alta incidência de ocorrências em São Paulo, é crucial priorizar esta cidade para intervenções adicionais destinadas a combater a criminalidade e melhorar a segurança pública. A concentração de recursos e esforços em São Paulo pode ter um impacto significativo na redução da criminalidade em todo o estado. Estratégias específicas de policiamento comunitário podem ser implementadas em áreas com alta densidade populacional, como Mooca e Santana, visando fortalecer o relacionamento entre a polícia e a comunidade e promover uma maior sensação de segurança."
   ]
  },
  {
   "cell_type": "markdown",
   "metadata": {},
   "source": [
    "# Análise descritiva"
   ]
  },
  {
   "cell_type": "markdown",
   "metadata": {},
   "source": [
    "## Medidas de Tendência"
   ]
  },
  {
   "cell_type": "markdown",
   "metadata": {},
   "source": [
    "- Censo 2022 foi divulgado nesta quarta-feira (28) pelo IBGE. São Paulo é a cidade mais populosa do Brasil, com 11.451.245 habitantes. \n",
    "- O dado faz parte do Censo 2022, do Instituto Brasileiro de Geografia e Estatística (IBGE), divulgado nesta quarta-feira (27/03/2024)"
   ]
  },
  {
   "cell_type": "code",
   "execution_count": 45,
   "metadata": {},
   "outputs": [
    {
     "data": {
      "text/plain": [
       "(97.05749128919861, 4.044062137049942)"
      ]
     },
     "execution_count": 45,
     "metadata": {},
     "output_type": "execute_result"
    }
   ],
   "source": [
    "# Contando o número de ocorrências de cada valor único em ANO_BO\n",
    "contagem_por_ano = dataset['ANO_BO'].value_counts().sort_index()\n",
    "# print('contagem_por_ano\\n', contagem_por_ano)\n",
    "# Definindo o número aproximado de dias em 11 anos (considerando anos bissextos)\n",
    "dias_em_11_anos = 11 * 365 + 3  # 3 anos bissextos em 11 anos\n",
    "# Inicializando a variável para a soma das ocorrências\n",
    "soma_ocorrencias = 0\n",
    "# Calculando a soma das ocorrências em contagem_por_ano\n",
    "for line in range(len(contagem_por_ano)):\n",
    "    soma_ocorrencias += contagem_por_ano.iloc[line]\n",
    "# Calculando a média diária de roubos\n",
    "roubos_diarios = soma_ocorrencias / dias_em_11_anos\n",
    "# Calculando a média horária de roubos\n",
    "roubos_por_hora = roubos_diarios / 24\n",
    "# Exibindo os resultados\n",
    "roubos_diarios, roubos_por_hora"
   ]
  },
  {
   "cell_type": "code",
   "execution_count": 46,
   "metadata": {},
   "outputs": [
    {
     "name": "stdout",
     "output_type": "stream",
     "text": [
      "Média de Roubos por Dia Ano a Ano\n",
      "2012 - 133.45\n",
      "2013 - 153.08\n",
      "2014 - 151.26\n",
      "2015 - 121.12\n",
      "2016 - 117.89\n",
      "2017 - 99.64\n",
      "2018 - 83.69\n",
      "2019 - 66.32\n",
      "2020 - 43.43\n",
      "2021 - 41.09\n",
      "2022 - 56.65\n"
     ]
    }
   ],
   "source": [
    "# Lista vazia para armazenar a média de roubos por ano\n",
    "media_roubos_ano = []\n",
    "\n",
    "# Lista de anos\n",
    "anos = [2012, 2013, 2014, 2015, 2016, 2017, 2018, 2019, 2020, 2021, 2022]\n",
    "print('Média de Roubos por Dia Ano a Ano')\n",
    "\n",
    "# Loop sobre os índices da lista contagem_por_ano\n",
    "for linha in range(len(contagem_por_ano)):\n",
    "    # Verifica se o ano é bissexto\n",
    "    ano_atual = anos[linha]\n",
    "    if (ano_atual % 4 == 0 and ano_atual % 100 != 0) or (ano_atual % 400 == 0):\n",
    "        dias_no_ano = 366\n",
    "    else:\n",
    "        dias_no_ano = 365\n",
    "    # Calcula a média de roubos por hora para o ano atual e adiciona à lista media_roubos_ano\n",
    "    media_roubos_ano.append((contagem_por_ano.iloc[linha] / dias_no_ano))\n",
    "    # Imprime o ano e a média de roubos por hora arredondada para 2 casas decimais\n",
    "    print(f'{anos[linha]} - {round(media_roubos_ano[linha], 2)}')"
   ]
  },
  {
   "cell_type": "code",
   "execution_count": 47,
   "metadata": {},
   "outputs": [
    {
     "name": "stdout",
     "output_type": "stream",
     "text": [
      "Média de Roubos por Hora Ano a Ano\n",
      "2012 - 5.56\n",
      "2013 - 6.38\n",
      "2014 - 6.3\n",
      "2015 - 5.05\n",
      "2016 - 4.91\n",
      "2017 - 4.15\n",
      "2018 - 3.49\n",
      "2019 - 2.76\n",
      "2020 - 1.81\n",
      "2021 - 1.71\n",
      "2022 - 2.36\n"
     ]
    }
   ],
   "source": [
    "# Lista vazia para armazenar a média de roubos por ano\n",
    "media_roubos_ano = []\n",
    "# Lista de anos\n",
    "anos = [2012, 2013, 2014, 2015, 2016, 2017, 2018, 2019, 2020, 2021, 2022]\n",
    "print('Média de Roubos por Hora Ano a Ano')\n",
    "\n",
    "# Loop sobre os índices da lista contagem_por_ano\n",
    "for linha in range(len(contagem_por_ano)):\n",
    "    # Verifica se o ano é bissexto\n",
    "    ano_atual = anos[linha]\n",
    "    if (ano_atual % 4 == 0 and ano_atual % 100 != 0) or (ano_atual % 400 == 0):\n",
    "        dias_no_ano = 366\n",
    "    else:\n",
    "        dias_no_ano = 365\n",
    "    # Calcula a média de roubos por hora para o ano atual e adiciona à lista media_roubos_ano\n",
    "    media_roubos_ano.append((contagem_por_ano.iloc[linha] / dias_no_ano) / 24)\n",
    "    # Imprime o ano e a média de roubos por hora arredondada para 2 casas decimais\n",
    "    print(f'{anos[linha]} - {round(media_roubos_ano[linha], 2)}')\n"
   ]
  },
  {
   "cell_type": "code",
   "execution_count": 48,
   "metadata": {},
   "outputs": [
    {
     "name": "stdout",
     "output_type": "stream",
     "text": [
      "2012--48842.\n",
      "Roubos por 100.000 habitantes -- 434.\n",
      "Média diária de roubos por 100.000 habitantes -- 1.189041095890411\n",
      "\n",
      "2013--55873.\n",
      "Roubos por 100.000 habitantes -- 496.\n",
      "Média diária de roubos por 100.000 habitantes -- 1.358904109589041\n",
      "\n",
      "2014--55210.\n",
      "Roubos por 100.000 habitantes -- 491.\n",
      "Média diária de roubos por 100.000 habitantes -- 1.3452054794520547\n",
      "\n",
      "2015--44208.\n",
      "Roubos por 100.000 habitantes -- 393.\n",
      "Média diária de roubos por 100.000 habitantes -- 1.0767123287671232\n",
      "\n",
      "2016--43149.\n",
      "Roubos por 100.000 habitantes -- 383.\n",
      "Média diária de roubos por 100.000 habitantes -- 1.0493150684931507\n",
      "\n",
      "2017--36369.\n",
      "Roubos por 100.000 habitantes -- 323.\n",
      "Média diária de roubos por 100.000 habitantes -- 0.8849315068493151\n",
      "\n",
      "2018--30547.\n",
      "Roubos por 100.000 habitantes -- 271.\n",
      "Média diária de roubos por 100.000 habitantes -- 0.7424657534246575\n",
      "\n",
      "2019--24207.\n",
      "Roubos por 100.000 habitantes -- 215.\n",
      "Média diária de roubos por 100.000 habitantes -- 0.589041095890411\n",
      "\n",
      "2020--15897.\n",
      "Roubos por 100.000 habitantes -- 141.\n",
      "Média diária de roubos por 100.000 habitantes -- 0.3863013698630137\n",
      "\n",
      "2021--14997.\n",
      "Roubos por 100.000 habitantes -- 133.\n",
      "Média diária de roubos por 100.000 habitantes -- 0.3643835616438356\n",
      "\n",
      "2022--20678.\n",
      "Roubos por 100.000 habitantes -- 184.\n",
      "Média diária de roubos por 100.000 habitantes -- 0.5041095890410959\n",
      "\n"
     ]
    }
   ],
   "source": [
    "# População total\n",
    "populacao = 11253503 #11451245\n",
    "# Valor de referência para 100.000 habitantes\n",
    "por_cem_mil = 100000\n",
    "# Calcula a população por 100.000 habitantes\n",
    "pop_por_cem_mil = populacao / por_cem_mil\n",
    "# Exibe a população por 100.000 habitantes\n",
    "pop_por_cem_mil\n",
    "# Contador de anos (começando em 2012)\n",
    "count = 12\n",
    "# Loop sobre os índices da lista contagem_por_ano\n",
    "for cont_ano in range(len(contagem_por_ano)):\n",
    "    # Exibe o número total de casos no ano atual\n",
    "    print(f'20{count}--{contagem_por_ano.iloc[cont_ano]}.')\n",
    "    # Calcula o número de roubos por 100.000 habitantes no ano atual\n",
    "    roubos_por_cem_mil = round(contagem_por_ano.iloc[cont_ano] / pop_por_cem_mil)\n",
    "    # Exibe o número de roubos por 100.000 habitantes\n",
    "    print(f'Roubos por 100.000 habitantes -- {roubos_por_cem_mil}.')\n",
    "    # Calcula a média diária de roubos por 100.000 habitantes no ano atual\n",
    "    media_diaria_roubos_por_cem_mil = round(contagem_por_ano.iloc[cont_ano] / pop_por_cem_mil) / 365\n",
    "    # Exibe a média diária de roubos por 100.000 habitantes\n",
    "    print(f'Média diária de roubos por 100.000 habitantes -- {media_diaria_roubos_por_cem_mil}\\n')\n",
    "    # Incrementa o contador de anos\n",
    "    count += 1"
   ]
  },
  {
   "cell_type": "code",
   "execution_count": 49,
   "metadata": {},
   "outputs": [],
   "source": [
    "# Criando uma nova variável 'ANO' que armazena o ano de cada data na coluna 'DATAOCORRENCIA'\n",
    "ano = dataset['DATAOCORRENCIA'].dt.year\n",
    "# Criando uma nova variável 'MES' que armazena o mês de cada data na coluna 'DATAOCORRENCIA'\n",
    "mes = dataset['DATAOCORRENCIA'].dt.month\n",
    "# Criando uma nova variável 'DIA' que armazena o dia do mês de cada data na coluna 'DATAOCORRENCIA'\n",
    "dia = dataset['DATAOCORRENCIA'].dt.day\n",
    "# Criando uma nova variável 'DIA_SEMANA' que armazena o dia da semana de cada data na coluna 'DATAOCORRENCIA'\n",
    "dia_semana = dataset['DATAOCORRENCIA'].dt.weekday\n",
    "# Criar uma agregação personalizada contando ocorrências de cada valor na coluna 'PERIDOOCORRENCIA' e ordenando pelo índice\n",
    "periodo = dataset['PERIODOOCORRENCIA'].value_counts().sort_index()"
   ]
  },
  {
   "cell_type": "code",
   "execution_count": 50,
   "metadata": {},
   "outputs": [
    {
     "data": {
      "text/html": [
       "<div>\n",
       "<style scoped>\n",
       "    .dataframe tbody tr th:only-of-type {\n",
       "        vertical-align: middle;\n",
       "    }\n",
       "\n",
       "    .dataframe tbody tr th {\n",
       "        vertical-align: top;\n",
       "    }\n",
       "\n",
       "    .dataframe thead th {\n",
       "        text-align: right;\n",
       "    }\n",
       "</style>\n",
       "<table border=\"1\" class=\"dataframe\">\n",
       "  <thead>\n",
       "    <tr style=\"text-align: right;\">\n",
       "      <th>Mês</th>\n",
       "      <th>1</th>\n",
       "      <th>2</th>\n",
       "      <th>3</th>\n",
       "      <th>4</th>\n",
       "      <th>5</th>\n",
       "      <th>6</th>\n",
       "      <th>7</th>\n",
       "      <th>8</th>\n",
       "      <th>9</th>\n",
       "      <th>10</th>\n",
       "      <th>11</th>\n",
       "      <th>12</th>\n",
       "    </tr>\n",
       "    <tr>\n",
       "      <th>Ano</th>\n",
       "      <th></th>\n",
       "      <th></th>\n",
       "      <th></th>\n",
       "      <th></th>\n",
       "      <th></th>\n",
       "      <th></th>\n",
       "      <th></th>\n",
       "      <th></th>\n",
       "      <th></th>\n",
       "      <th></th>\n",
       "      <th></th>\n",
       "      <th></th>\n",
       "    </tr>\n",
       "  </thead>\n",
       "  <tbody>\n",
       "    <tr>\n",
       "      <th>2012</th>\n",
       "      <td>3961</td>\n",
       "      <td>4127</td>\n",
       "      <td>4869</td>\n",
       "      <td>4617</td>\n",
       "      <td>4706</td>\n",
       "      <td>3802</td>\n",
       "      <td>3766</td>\n",
       "      <td>4077</td>\n",
       "      <td>3676</td>\n",
       "      <td>3849</td>\n",
       "      <td>3614</td>\n",
       "      <td>4389</td>\n",
       "    </tr>\n",
       "    <tr>\n",
       "      <th>2013</th>\n",
       "      <td>4106</td>\n",
       "      <td>4024</td>\n",
       "      <td>4883</td>\n",
       "      <td>4553</td>\n",
       "      <td>4370</td>\n",
       "      <td>4512</td>\n",
       "      <td>4641</td>\n",
       "      <td>4836</td>\n",
       "      <td>4436</td>\n",
       "      <td>4794</td>\n",
       "      <td>4979</td>\n",
       "      <td>5638</td>\n",
       "    </tr>\n",
       "    <tr>\n",
       "      <th>2014</th>\n",
       "      <td>5033</td>\n",
       "      <td>5122</td>\n",
       "      <td>5203</td>\n",
       "      <td>4989</td>\n",
       "      <td>4617</td>\n",
       "      <td>4403</td>\n",
       "      <td>4048</td>\n",
       "      <td>4230</td>\n",
       "      <td>3906</td>\n",
       "      <td>4383</td>\n",
       "      <td>4534</td>\n",
       "      <td>4710</td>\n",
       "    </tr>\n",
       "    <tr>\n",
       "      <th>2015</th>\n",
       "      <td>4068</td>\n",
       "      <td>3836</td>\n",
       "      <td>3715</td>\n",
       "      <td>3675</td>\n",
       "      <td>3525</td>\n",
       "      <td>3126</td>\n",
       "      <td>3357</td>\n",
       "      <td>3162</td>\n",
       "      <td>3384</td>\n",
       "      <td>3987</td>\n",
       "      <td>3889</td>\n",
       "      <td>4503</td>\n",
       "    </tr>\n",
       "    <tr>\n",
       "      <th>2016</th>\n",
       "      <td>3542</td>\n",
       "      <td>3319</td>\n",
       "      <td>3557</td>\n",
       "      <td>3613</td>\n",
       "      <td>3441</td>\n",
       "      <td>3286</td>\n",
       "      <td>3481</td>\n",
       "      <td>3619</td>\n",
       "      <td>3560</td>\n",
       "      <td>4107</td>\n",
       "      <td>3587</td>\n",
       "      <td>3936</td>\n",
       "    </tr>\n",
       "    <tr>\n",
       "      <th>2017</th>\n",
       "      <td>3140</td>\n",
       "      <td>3123</td>\n",
       "      <td>3384</td>\n",
       "      <td>3054</td>\n",
       "      <td>2959</td>\n",
       "      <td>2896</td>\n",
       "      <td>2915</td>\n",
       "      <td>2906</td>\n",
       "      <td>2865</td>\n",
       "      <td>2967</td>\n",
       "      <td>3051</td>\n",
       "      <td>3010</td>\n",
       "    </tr>\n",
       "    <tr>\n",
       "      <th>2018</th>\n",
       "      <td>2327</td>\n",
       "      <td>2460</td>\n",
       "      <td>2504</td>\n",
       "      <td>2551</td>\n",
       "      <td>2655</td>\n",
       "      <td>2458</td>\n",
       "      <td>2319</td>\n",
       "      <td>2368</td>\n",
       "      <td>2374</td>\n",
       "      <td>2734</td>\n",
       "      <td>2738</td>\n",
       "      <td>3064</td>\n",
       "    </tr>\n",
       "    <tr>\n",
       "      <th>2019</th>\n",
       "      <td>1914</td>\n",
       "      <td>1775</td>\n",
       "      <td>2066</td>\n",
       "      <td>2149</td>\n",
       "      <td>2093</td>\n",
       "      <td>2088</td>\n",
       "      <td>1921</td>\n",
       "      <td>1825</td>\n",
       "      <td>1750</td>\n",
       "      <td>1986</td>\n",
       "      <td>2123</td>\n",
       "      <td>2414</td>\n",
       "    </tr>\n",
       "    <tr>\n",
       "      <th>2020</th>\n",
       "      <td>1837</td>\n",
       "      <td>1735</td>\n",
       "      <td>1673</td>\n",
       "      <td>1179</td>\n",
       "      <td>943</td>\n",
       "      <td>970</td>\n",
       "      <td>1104</td>\n",
       "      <td>1044</td>\n",
       "      <td>1057</td>\n",
       "      <td>1216</td>\n",
       "      <td>1398</td>\n",
       "      <td>1728</td>\n",
       "    </tr>\n",
       "    <tr>\n",
       "      <th>2021</th>\n",
       "      <td>1257</td>\n",
       "      <td>1201</td>\n",
       "      <td>1151</td>\n",
       "      <td>1082</td>\n",
       "      <td>1037</td>\n",
       "      <td>1070</td>\n",
       "      <td>1174</td>\n",
       "      <td>1186</td>\n",
       "      <td>1365</td>\n",
       "      <td>1383</td>\n",
       "      <td>1437</td>\n",
       "      <td>1658</td>\n",
       "    </tr>\n",
       "    <tr>\n",
       "      <th>2022</th>\n",
       "      <td>1272</td>\n",
       "      <td>1218</td>\n",
       "      <td>1728</td>\n",
       "      <td>1550</td>\n",
       "      <td>1734</td>\n",
       "      <td>1579</td>\n",
       "      <td>1365</td>\n",
       "      <td>1398</td>\n",
       "      <td>1863</td>\n",
       "      <td>2270</td>\n",
       "      <td>2340</td>\n",
       "      <td>2171</td>\n",
       "    </tr>\n",
       "  </tbody>\n",
       "</table>\n",
       "</div>"
      ],
      "text/plain": [
       "Mês     1     2     3     4     5     6     7     8     9     10    11    12\n",
       "Ano                                                                         \n",
       "2012  3961  4127  4869  4617  4706  3802  3766  4077  3676  3849  3614  4389\n",
       "2013  4106  4024  4883  4553  4370  4512  4641  4836  4436  4794  4979  5638\n",
       "2014  5033  5122  5203  4989  4617  4403  4048  4230  3906  4383  4534  4710\n",
       "2015  4068  3836  3715  3675  3525  3126  3357  3162  3384  3987  3889  4503\n",
       "2016  3542  3319  3557  3613  3441  3286  3481  3619  3560  4107  3587  3936\n",
       "2017  3140  3123  3384  3054  2959  2896  2915  2906  2865  2967  3051  3010\n",
       "2018  2327  2460  2504  2551  2655  2458  2319  2368  2374  2734  2738  3064\n",
       "2019  1914  1775  2066  2149  2093  2088  1921  1825  1750  1986  2123  2414\n",
       "2020  1837  1735  1673  1179   943   970  1104  1044  1057  1216  1398  1728\n",
       "2021  1257  1201  1151  1082  1037  1070  1174  1186  1365  1383  1437  1658\n",
       "2022  1272  1218  1728  1550  1734  1579  1365  1398  1863  2270  2340  2171"
      ]
     },
     "execution_count": 50,
     "metadata": {},
     "output_type": "execute_result"
    }
   ],
   "source": [
    "# Criando um DataFrame com as variáveis 'ano' e 'mes'\n",
    "tabela_freq = pd.DataFrame({'Ano': ano, 'Mês': mes})\n",
    "# Definindo os nomes dos meses para os rótulos\n",
    "meses_rotulos = ['JAN', 'FEV', 'MAR', 'ABR', 'MAI', 'JUN', 'JUL', 'AGO', 'SET', 'OUT', 'NOV', 'DEZ']\n",
    "# Criando uma tabela pivô para contar ocorrências de cada mês por ano e aplicando rótulos de meses\n",
    "tabela_frequencia = pd.pivot_table(tabela_freq, index='Ano', columns='Mês', aggfunc='size', fill_value=0)\n",
    "# Mostrando a tabela de frequência\n",
    "tabela_frequencia"
   ]
  },
  {
   "cell_type": "markdown",
   "metadata": {},
   "source": [
    "## Distribuição Anual de Roubos de Veículos:"
   ]
  },
  {
   "cell_type": "code",
   "execution_count": 51,
   "metadata": {},
   "outputs": [
    {
     "data": {
      "image/png": "[encoded data removed]",
      "text/plain": [
       "<Figure size 2000x600 with 1 Axes>"
      ]
     },
     "metadata": {},
     "output_type": "display_data"
    }
   ],
   "source": [
    "# Crie a figura com um tamanho específico\n",
    "plt.figure(figsize=(20, 6))\n",
    "# Plotar o gráfico de barras usando a série 'contagem_anos'\n",
    "cont_ano = dataset['ANO_BO'].value_counts().sort_index().plot(kind='bar')\n",
    "# Adiciona rótulos ao eixo x e y\n",
    "plt.xlabel('Ano')\n",
    "plt.ylabel('Números Absolutos de Registros de Roubo de Veículos')\n",
    "# Adiciona um título ao gráfico\n",
    "plt.title('Números de Ocorrências por Ano')\n",
    "\n",
    "# Itera sobre cada barra (patch) no gráfico de barras\n",
    "for linha in cont_ano.patches:\n",
    "    # Adiciona uma anotação (número total) acima de cada barra\n",
    "    cont_ano.annotate(\n",
    "        f\"{linha.get_height():.0f}\",                                    # Texto formatado com a altura da barra como número inteiro\n",
    "        (linha.get_x() + linha.get_width() / 2., linha.get_height()),   # Coordenadas do texto (centro da barra)\n",
    "        ha='center',                                                    # Alinhamento horizontal: centralizado\n",
    "        va='center',                                                    # Alinhamento vertical: centralizado\n",
    "        xytext=(0, 10),                                                 # Deslocamento do texto (10 pontos acima)\n",
    "        textcoords='offset points'                                      # Coordenadas do deslocamento em pontos\n",
    "    )\n",
    "\n",
    "# Exibe o gráfico\n",
    "plt.show()"
   ]
  },
  {
   "cell_type": "code",
   "execution_count": 52,
   "metadata": {},
   "outputs": [
    {
     "data": {
      "image/png": "[encoded data removed]",
      "text/plain": [
       "<Figure size 2000x600 with 1 Axes>"
      ]
     },
     "metadata": {},
     "output_type": "display_data"
    }
   ],
   "source": [
    "plt.figure(figsize=(20, 6))\n",
    " \n",
    "mes.value_counts().sort_index().plot(kind='bar')\n",
    "\n",
    "plt.title('Distribuição dos Roubos de Veículos ao Longo dos Meses')\n",
    "plt.xlabel('Mês')\n",
    "plt.ylabel('Número de Ocorrências')\n",
    "plt.xticks(ticks=range(12), labels=['JAN', 'FEV', 'MAR', 'ABR', 'MAI', 'JUN', 'JUL','AGO','SET','OUT','NOV','DEZ'])\n",
    "\n",
    "# Adicionando anotações acima de cada barra com o número total de ocorrências\n",
    "for i, value in enumerate(mes.value_counts().sort_index()):\n",
    "    plt.text(i, value, str(value), ha='center', va='bottom')\n",
    "\n",
    "plt.show()"
   ]
  },
  {
   "cell_type": "code",
   "execution_count": 53,
   "metadata": {},
   "outputs": [
    {
     "data": {
      "image/png": "[encoded data removed]",
      "text/plain": [
       "<Figure size 1000x500 with 1 Axes>"
      ]
     },
     "metadata": {},
     "output_type": "display_data"
    }
   ],
   "source": [
    "# Plotar a distribuição dos roubos de veículos ao longo dos dias da semana\n",
    "plt.figure(figsize=(10, 5))\n",
    "dia_semana.value_counts().sort_index().plot(kind='bar')\n",
    "plt.title('Distribuição dos Roubos de Veículos ao Longo dos Dias da Semana')\n",
    "plt.xlabel('Dia da Semana')\n",
    "plt.ylabel('Número de Ocorrências')\n",
    "plt.xticks(ticks=range(7), labels=['Domingo', 'Segunda', 'Terça', 'Quarta', 'Quinta', 'Sexta', 'Sábado'])\n",
    "\n",
    "# Adicionando anotações acima de cada barra com o número total de ocorrências\n",
    "for i, value in enumerate(dia_semana.value_counts().sort_index()):\n",
    "    plt.text(i, value, str(value), ha='center', va='bottom')\n",
    "\n",
    "plt.show()"
   ]
  },
  {
   "cell_type": "code",
   "execution_count": 54,
   "metadata": {},
   "outputs": [
    {
     "data": {
      "image/png": "[encoded data removed]",
      "text/plain": [
       "<Figure size 1200x700 with 1 Axes>"
      ]
     },
     "metadata": {},
     "output_type": "display_data"
    }
   ],
   "source": [
    "# Definindo o tamanho da figura\n",
    "plt.figure(figsize=(12, 7))\n",
    "\n",
    "# Plotando o gráfico de barras usando o método plot da série\n",
    "grafico = dataset['PERIODOOCORRENCIA'].value_counts().plot(kind='bar')\n",
    "\n",
    "# Adicionando título e rótulos aos eixos\n",
    "plt.title('Total de Roubos por Périodo')\n",
    "plt.xlabel('Período de Ocorrência')\n",
    "plt.ylabel('Total de Roubos')\n",
    "\n",
    "# Itera sobre cada barra (patch) no gráfico de barras\n",
    "for p in grafico.patches:\n",
    "    # Adiciona uma anotação (número total) acima de cada barra\n",
    "    grafico.annotate(\n",
    "        f\"{p.get_height():.0f}\",                            # Texto formatado com a altura da barra como número inteiro\n",
    "        (p.get_x() + p.get_width() / 2., p.get_height()),   # Coordenadas do texto (centro da barra)\n",
    "        ha='center',                                        # Alinhamento horizontal: centralizado\n",
    "        va='center',                                        # Alinhamento vertical: centralizado\n",
    "        xytext=(0, 10),                                     # Deslocamento do texto (10 pontos acima)\n",
    "        textcoords='offset points'                          # Coordenadas do deslocamento em pontos\n",
    "    )\n",
    "# Exibindo o gráfico\n",
    "plt.show()"
   ]
  },
  {
   "cell_type": "markdown",
   "metadata": {},
   "source": [
    "## Análise Espacial:"
   ]
  },
  {
   "cell_type": "markdown",
   "metadata": {},
   "source": [
    "* Agregação dos Dados por Bairro e Período\n",
    "* Agregue os dados para contar o número de ocorrências por bairro e por período (mensal, trimestral, etc.)."
   ]
  },
  {
   "cell_type": "code",
   "execution_count": 55,
   "metadata": {},
   "outputs": [
    {
     "data": {
      "text/plain": [
       "BAIRRO\n",
       "JABAQUARA            9848\n",
       "ITAQUERA             8576\n",
       "SAO MATEUS           7730\n",
       "ITAIM PAULISTA       7514\n",
       "IPIRANGA             6535\n",
       "CIDADE ADEMAR        6446\n",
       "SAPOPEMBA            6362\n",
       "SACOMA               6308\n",
       "PIRITUBA             6157\n",
       "IGUATEMI             6147\n",
       "SAO RAFAEL           6116\n",
       "GUAIANASES           5384\n",
       "PEDREIRA             4843\n",
       "CAMPO LIMPO          4375\n",
       "GRAJAU               4256\n",
       "VILA PRUDENTE        4003\n",
       "CAPAO REDONDO        3959\n",
       "CIDADE TIRADENTES    3938\n",
       "CAMPO GRANDE         3805\n",
       "FREGUESIA DO O       3786\n",
       "Name: count, dtype: int64"
      ]
     },
     "execution_count": 55,
     "metadata": {},
     "output_type": "execute_result"
    }
   ],
   "source": [
    "# Calcula a contagem de ocorrências para cada valor único na coluna 'CIDADE'\n",
    "dataset['BAIRRO'].value_counts().head(20)"
   ]
  },
  {
   "cell_type": "code",
   "execution_count": 56,
   "metadata": {},
   "outputs": [
    {
     "data": {
      "image/png": "[encoded data removed]",
      "text/plain": [
       "<Figure size 1800x600 with 1 Axes>"
      ]
     },
     "metadata": {},
     "output_type": "display_data"
    }
   ],
   "source": [
    "# Definindo o tamanho da figura\n",
    "plt.figure(figsize=(18, 6))\n",
    "\n",
    "# Plotando o gráfico de barras usando o método plot da série\n",
    "grafico2 = dataset['BAIRRO'].value_counts().head(10).plot(kind='bar')\n",
    "\n",
    "# Adicionando título e rótulos aos eixos\n",
    "plt.title('10 bairros com o maior indice de roubos totais de 2012 a 2022')\n",
    "plt.xlabel('Bairros por Ocorrência')\n",
    "plt.ylabel('Total de Roubos')\n",
    "\n",
    "# Itera sobre cada barra (patch) no gráfico de barras\n",
    "for p in grafico2.patches:\n",
    "    # Adiciona uma anotação (número total) acima de cada barra\n",
    "    grafico.annotate(\n",
    "        f\"{p.get_height():.0f}\",                            # Texto formatado com a altura da barra como número inteiro\n",
    "        (p.get_x() + p.get_width() / 2., p.get_height()),   # Coordenadas do texto (centro da barra)\n",
    "        ha='center',                                        # Alinhamento horizontal: centralizado\n",
    "        va='center',                                        # Alinhamento vertical: centralizado\n",
    "        xytext=(0, 10),                                     # Deslocamento do texto (10 pontos acima)\n",
    "        textcoords='offset points'                          # Coordenadas do deslocamento em pontos\n",
    "    )\n",
    "\n",
    "# Exibindo o gráfico\n",
    "plt.show()"
   ]
  },
  {
   "cell_type": "markdown",
   "metadata": {},
   "source": [
    "## Criando novo dataset para analise de series temporais"
   ]
  },
  {
   "cell_type": "code",
   "execution_count": 57,
   "metadata": {},
   "outputs": [
    {
     "data": {
      "text/html": [
       "<div>\n",
       "<style scoped>\n",
       "    .dataframe tbody tr th:only-of-type {\n",
       "        vertical-align: middle;\n",
       "    }\n",
       "\n",
       "    .dataframe tbody tr th {\n",
       "        vertical-align: top;\n",
       "    }\n",
       "\n",
       "    .dataframe thead th {\n",
       "        text-align: right;\n",
       "    }\n",
       "</style>\n",
       "<table border=\"1\" class=\"dataframe\">\n",
       "  <thead>\n",
       "    <tr style=\"text-align: right;\">\n",
       "      <th></th>\n",
       "      <th>ANO_BO</th>\n",
       "      <th>DATAOCORRENCIA</th>\n",
       "      <th>BAIRRO</th>\n",
       "      <th>PERIODOOCORRENCIA</th>\n",
       "      <th>CIDADE</th>\n",
       "    </tr>\n",
       "  </thead>\n",
       "  <tbody>\n",
       "    <tr>\n",
       "      <th>4</th>\n",
       "      <td>2012</td>\n",
       "      <td>2012-01-01</td>\n",
       "      <td>AMERICANOPOLIS</td>\n",
       "      <td>DE MADRUGADA</td>\n",
       "      <td>S.PAULO</td>\n",
       "    </tr>\n",
       "    <tr>\n",
       "      <th>5</th>\n",
       "      <td>2012</td>\n",
       "      <td>2012-01-01</td>\n",
       "      <td>PQ SAO RAFAEL</td>\n",
       "      <td>DE MADRUGADA</td>\n",
       "      <td>S.PAULO</td>\n",
       "    </tr>\n",
       "    <tr>\n",
       "      <th>8</th>\n",
       "      <td>2012</td>\n",
       "      <td>2012-01-01</td>\n",
       "      <td>JARDIM RODOLFO PIRANI</td>\n",
       "      <td>DE MADRUGADA</td>\n",
       "      <td>S.PAULO</td>\n",
       "    </tr>\n",
       "    <tr>\n",
       "      <th>9</th>\n",
       "      <td>2012</td>\n",
       "      <td>2012-01-01</td>\n",
       "      <td>JD. SAPOPEMBA</td>\n",
       "      <td>DE MADRUGADA</td>\n",
       "      <td>S.PAULO</td>\n",
       "    </tr>\n",
       "    <tr>\n",
       "      <th>10</th>\n",
       "      <td>2012</td>\n",
       "      <td>2012-01-01</td>\n",
       "      <td>EDU CHAVES</td>\n",
       "      <td>DE MADRUGADA</td>\n",
       "      <td>S.PAULO</td>\n",
       "    </tr>\n",
       "  </tbody>\n",
       "</table>\n",
       "</div>"
      ],
      "text/plain": [
       "    ANO_BO DATAOCORRENCIA                 BAIRRO PERIODOOCORRENCIA   CIDADE\n",
       "4     2012     2012-01-01         AMERICANOPOLIS      DE MADRUGADA  S.PAULO\n",
       "5     2012     2012-01-01          PQ SAO RAFAEL      DE MADRUGADA  S.PAULO\n",
       "8     2012     2012-01-01  JARDIM RODOLFO PIRANI      DE MADRUGADA  S.PAULO\n",
       "9     2012     2012-01-01          JD. SAPOPEMBA      DE MADRUGADA  S.PAULO\n",
       "10    2012     2012-01-01             EDU CHAVES      DE MADRUGADA  S.PAULO"
      ]
     },
     "execution_count": 57,
     "metadata": {},
     "output_type": "execute_result"
    }
   ],
   "source": [
    "dataset.head()"
   ]
  },
  {
   "cell_type": "code",
   "execution_count": 58,
   "metadata": {},
   "outputs": [],
   "source": [
    "#dataset['DIA'] = dataset['DATAOCORRENCIA'].dt.to_period('D')\n",
    "#dataset['SEMANA'] = dataset['DATAOCORRENCIA'].dt.to_period('W')\n",
    "dataset['MES'] = dataset['DATAOCORRENCIA'].dt.to_period('M')"
   ]
  },
  {
   "cell_type": "code",
   "execution_count": 59,
   "metadata": {},
   "outputs": [
    {
     "data": {
      "text/html": [
       "<div>\n",
       "<style scoped>\n",
       "    .dataframe tbody tr th:only-of-type {\n",
       "        vertical-align: middle;\n",
       "    }\n",
       "\n",
       "    .dataframe tbody tr th {\n",
       "        vertical-align: top;\n",
       "    }\n",
       "\n",
       "    .dataframe thead th {\n",
       "        text-align: right;\n",
       "    }\n",
       "</style>\n",
       "<table border=\"1\" class=\"dataframe\">\n",
       "  <thead>\n",
       "    <tr style=\"text-align: right;\">\n",
       "      <th></th>\n",
       "      <th>ANO_BO</th>\n",
       "      <th>DATAOCORRENCIA</th>\n",
       "      <th>BAIRRO</th>\n",
       "      <th>PERIODOOCORRENCIA</th>\n",
       "      <th>CIDADE</th>\n",
       "      <th>MES</th>\n",
       "    </tr>\n",
       "  </thead>\n",
       "  <tbody>\n",
       "    <tr>\n",
       "      <th>4</th>\n",
       "      <td>2012</td>\n",
       "      <td>2012-01-01</td>\n",
       "      <td>AMERICANOPOLIS</td>\n",
       "      <td>DE MADRUGADA</td>\n",
       "      <td>S.PAULO</td>\n",
       "      <td>2012-01</td>\n",
       "    </tr>\n",
       "    <tr>\n",
       "      <th>5</th>\n",
       "      <td>2012</td>\n",
       "      <td>2012-01-01</td>\n",
       "      <td>PQ SAO RAFAEL</td>\n",
       "      <td>DE MADRUGADA</td>\n",
       "      <td>S.PAULO</td>\n",
       "      <td>2012-01</td>\n",
       "    </tr>\n",
       "    <tr>\n",
       "      <th>8</th>\n",
       "      <td>2012</td>\n",
       "      <td>2012-01-01</td>\n",
       "      <td>JARDIM RODOLFO PIRANI</td>\n",
       "      <td>DE MADRUGADA</td>\n",
       "      <td>S.PAULO</td>\n",
       "      <td>2012-01</td>\n",
       "    </tr>\n",
       "    <tr>\n",
       "      <th>9</th>\n",
       "      <td>2012</td>\n",
       "      <td>2012-01-01</td>\n",
       "      <td>JD. SAPOPEMBA</td>\n",
       "      <td>DE MADRUGADA</td>\n",
       "      <td>S.PAULO</td>\n",
       "      <td>2012-01</td>\n",
       "    </tr>\n",
       "    <tr>\n",
       "      <th>10</th>\n",
       "      <td>2012</td>\n",
       "      <td>2012-01-01</td>\n",
       "      <td>EDU CHAVES</td>\n",
       "      <td>DE MADRUGADA</td>\n",
       "      <td>S.PAULO</td>\n",
       "      <td>2012-01</td>\n",
       "    </tr>\n",
       "    <tr>\n",
       "      <th>...</th>\n",
       "      <td>...</td>\n",
       "      <td>...</td>\n",
       "      <td>...</td>\n",
       "      <td>...</td>\n",
       "      <td>...</td>\n",
       "      <td>...</td>\n",
       "    </tr>\n",
       "    <tr>\n",
       "      <th>390805</th>\n",
       "      <td>2022</td>\n",
       "      <td>2022-09-30</td>\n",
       "      <td>Jabaquara</td>\n",
       "      <td>A TARDE</td>\n",
       "      <td>S.PAULO</td>\n",
       "      <td>2022-09</td>\n",
       "    </tr>\n",
       "    <tr>\n",
       "      <th>390806</th>\n",
       "      <td>2022</td>\n",
       "      <td>2022-09-25</td>\n",
       "      <td>Jardim Aricanduva</td>\n",
       "      <td>DE MADRUGADA</td>\n",
       "      <td>S.PAULO</td>\n",
       "      <td>2022-09</td>\n",
       "    </tr>\n",
       "    <tr>\n",
       "      <th>390807</th>\n",
       "      <td>2022</td>\n",
       "      <td>2022-09-30</td>\n",
       "      <td>Aclimação</td>\n",
       "      <td>A NOITE</td>\n",
       "      <td>S.PAULO</td>\n",
       "      <td>2022-09</td>\n",
       "    </tr>\n",
       "    <tr>\n",
       "      <th>390808</th>\n",
       "      <td>2022</td>\n",
       "      <td>2022-09-30</td>\n",
       "      <td>SAO MATEUS</td>\n",
       "      <td>A NOITE</td>\n",
       "      <td>S.PAULO</td>\n",
       "      <td>2022-09</td>\n",
       "    </tr>\n",
       "    <tr>\n",
       "      <th>390809</th>\n",
       "      <td>2022</td>\n",
       "      <td>2022-09-30</td>\n",
       "      <td>SOCORRO</td>\n",
       "      <td>A NOITE</td>\n",
       "      <td>S.PAULO</td>\n",
       "      <td>2022-09</td>\n",
       "    </tr>\n",
       "  </tbody>\n",
       "</table>\n",
       "<p>389977 rows × 6 columns</p>\n",
       "</div>"
      ],
      "text/plain": [
       "        ANO_BO DATAOCORRENCIA                 BAIRRO PERIODOOCORRENCIA  \\\n",
       "4         2012     2012-01-01         AMERICANOPOLIS      DE MADRUGADA   \n",
       "5         2012     2012-01-01          PQ SAO RAFAEL      DE MADRUGADA   \n",
       "8         2012     2012-01-01  JARDIM RODOLFO PIRANI      DE MADRUGADA   \n",
       "9         2012     2012-01-01          JD. SAPOPEMBA      DE MADRUGADA   \n",
       "10        2012     2012-01-01             EDU CHAVES      DE MADRUGADA   \n",
       "...        ...            ...                    ...               ...   \n",
       "390805    2022     2022-09-30              Jabaquara           A TARDE   \n",
       "390806    2022     2022-09-25      Jardim Aricanduva      DE MADRUGADA   \n",
       "390807    2022     2022-09-30              Aclimação           A NOITE   \n",
       "390808    2022     2022-09-30             SAO MATEUS           A NOITE   \n",
       "390809    2022     2022-09-30                SOCORRO           A NOITE   \n",
       "\n",
       "         CIDADE      MES  \n",
       "4       S.PAULO  2012-01  \n",
       "5       S.PAULO  2012-01  \n",
       "8       S.PAULO  2012-01  \n",
       "9       S.PAULO  2012-01  \n",
       "10      S.PAULO  2012-01  \n",
       "...         ...      ...  \n",
       "390805  S.PAULO  2022-09  \n",
       "390806  S.PAULO  2022-09  \n",
       "390807  S.PAULO  2022-09  \n",
       "390808  S.PAULO  2022-09  \n",
       "390809  S.PAULO  2022-09  \n",
       "\n",
       "[389977 rows x 6 columns]"
      ]
     },
     "execution_count": 59,
     "metadata": {},
     "output_type": "execute_result"
    }
   ],
   "source": [
    "dataset"
   ]
  },
  {
   "cell_type": "code",
   "execution_count": 60,
   "metadata": {},
   "outputs": [
    {
     "data": {
      "text/html": [
       "<div>\n",
       "<style scoped>\n",
       "    .dataframe tbody tr th:only-of-type {\n",
       "        vertical-align: middle;\n",
       "    }\n",
       "\n",
       "    .dataframe tbody tr th {\n",
       "        vertical-align: top;\n",
       "    }\n",
       "\n",
       "    .dataframe thead th {\n",
       "        text-align: right;\n",
       "    }\n",
       "</style>\n",
       "<table border=\"1\" class=\"dataframe\">\n",
       "  <thead>\n",
       "    <tr style=\"text-align: right;\">\n",
       "      <th></th>\n",
       "      <th>ANO_BO</th>\n",
       "      <th>DATAOCORRENCIA</th>\n",
       "      <th>BAIRRO</th>\n",
       "      <th>PERIODOOCORRENCIA</th>\n",
       "      <th>CIDADE</th>\n",
       "      <th>MES</th>\n",
       "    </tr>\n",
       "  </thead>\n",
       "  <tbody>\n",
       "    <tr>\n",
       "      <th>4</th>\n",
       "      <td>2012</td>\n",
       "      <td>2012-01-01</td>\n",
       "      <td>AMERICANOPOLIS</td>\n",
       "      <td>DE MADRUGADA</td>\n",
       "      <td>S.PAULO</td>\n",
       "      <td>2012-01</td>\n",
       "    </tr>\n",
       "    <tr>\n",
       "      <th>5</th>\n",
       "      <td>2012</td>\n",
       "      <td>2012-01-01</td>\n",
       "      <td>PQ SAO RAFAEL</td>\n",
       "      <td>DE MADRUGADA</td>\n",
       "      <td>S.PAULO</td>\n",
       "      <td>2012-01</td>\n",
       "    </tr>\n",
       "    <tr>\n",
       "      <th>8</th>\n",
       "      <td>2012</td>\n",
       "      <td>2012-01-01</td>\n",
       "      <td>JARDIM RODOLFO PIRANI</td>\n",
       "      <td>DE MADRUGADA</td>\n",
       "      <td>S.PAULO</td>\n",
       "      <td>2012-01</td>\n",
       "    </tr>\n",
       "    <tr>\n",
       "      <th>9</th>\n",
       "      <td>2012</td>\n",
       "      <td>2012-01-01</td>\n",
       "      <td>JD. SAPOPEMBA</td>\n",
       "      <td>DE MADRUGADA</td>\n",
       "      <td>S.PAULO</td>\n",
       "      <td>2012-01</td>\n",
       "    </tr>\n",
       "    <tr>\n",
       "      <th>10</th>\n",
       "      <td>2012</td>\n",
       "      <td>2012-01-01</td>\n",
       "      <td>EDU CHAVES</td>\n",
       "      <td>DE MADRUGADA</td>\n",
       "      <td>S.PAULO</td>\n",
       "      <td>2012-01</td>\n",
       "    </tr>\n",
       "    <tr>\n",
       "      <th>...</th>\n",
       "      <td>...</td>\n",
       "      <td>...</td>\n",
       "      <td>...</td>\n",
       "      <td>...</td>\n",
       "      <td>...</td>\n",
       "      <td>...</td>\n",
       "    </tr>\n",
       "    <tr>\n",
       "      <th>390805</th>\n",
       "      <td>2022</td>\n",
       "      <td>2022-09-30</td>\n",
       "      <td>Jabaquara</td>\n",
       "      <td>A TARDE</td>\n",
       "      <td>S.PAULO</td>\n",
       "      <td>2022-09</td>\n",
       "    </tr>\n",
       "    <tr>\n",
       "      <th>390806</th>\n",
       "      <td>2022</td>\n",
       "      <td>2022-09-25</td>\n",
       "      <td>Jardim Aricanduva</td>\n",
       "      <td>DE MADRUGADA</td>\n",
       "      <td>S.PAULO</td>\n",
       "      <td>2022-09</td>\n",
       "    </tr>\n",
       "    <tr>\n",
       "      <th>390807</th>\n",
       "      <td>2022</td>\n",
       "      <td>2022-09-30</td>\n",
       "      <td>Aclimação</td>\n",
       "      <td>A NOITE</td>\n",
       "      <td>S.PAULO</td>\n",
       "      <td>2022-09</td>\n",
       "    </tr>\n",
       "    <tr>\n",
       "      <th>390808</th>\n",
       "      <td>2022</td>\n",
       "      <td>2022-09-30</td>\n",
       "      <td>SAO MATEUS</td>\n",
       "      <td>A NOITE</td>\n",
       "      <td>S.PAULO</td>\n",
       "      <td>2022-09</td>\n",
       "    </tr>\n",
       "    <tr>\n",
       "      <th>390809</th>\n",
       "      <td>2022</td>\n",
       "      <td>2022-09-30</td>\n",
       "      <td>SOCORRO</td>\n",
       "      <td>A NOITE</td>\n",
       "      <td>S.PAULO</td>\n",
       "      <td>2022-09</td>\n",
       "    </tr>\n",
       "  </tbody>\n",
       "</table>\n",
       "<p>389977 rows × 6 columns</p>\n",
       "</div>"
      ],
      "text/plain": [
       "        ANO_BO DATAOCORRENCIA                 BAIRRO PERIODOOCORRENCIA  \\\n",
       "4         2012     2012-01-01         AMERICANOPOLIS      DE MADRUGADA   \n",
       "5         2012     2012-01-01          PQ SAO RAFAEL      DE MADRUGADA   \n",
       "8         2012     2012-01-01  JARDIM RODOLFO PIRANI      DE MADRUGADA   \n",
       "9         2012     2012-01-01          JD. SAPOPEMBA      DE MADRUGADA   \n",
       "10        2012     2012-01-01             EDU CHAVES      DE MADRUGADA   \n",
       "...        ...            ...                    ...               ...   \n",
       "390805    2022     2022-09-30              Jabaquara           A TARDE   \n",
       "390806    2022     2022-09-25      Jardim Aricanduva      DE MADRUGADA   \n",
       "390807    2022     2022-09-30              Aclimação           A NOITE   \n",
       "390808    2022     2022-09-30             SAO MATEUS           A NOITE   \n",
       "390809    2022     2022-09-30                SOCORRO           A NOITE   \n",
       "\n",
       "         CIDADE      MES  \n",
       "4       S.PAULO  2012-01  \n",
       "5       S.PAULO  2012-01  \n",
       "8       S.PAULO  2012-01  \n",
       "9       S.PAULO  2012-01  \n",
       "10      S.PAULO  2012-01  \n",
       "...         ...      ...  \n",
       "390805  S.PAULO  2022-09  \n",
       "390806  S.PAULO  2022-09  \n",
       "390807  S.PAULO  2022-09  \n",
       "390808  S.PAULO  2022-09  \n",
       "390809  S.PAULO  2022-09  \n",
       "\n",
       "[389977 rows x 6 columns]"
      ]
     },
     "execution_count": 60,
     "metadata": {},
     "output_type": "execute_result"
    }
   ],
   "source": [
    "dataset"
   ]
  },
  {
   "cell_type": "code",
   "execution_count": 61,
   "metadata": {},
   "outputs": [
    {
     "data": {
      "text/html": [
       "<div>\n",
       "<style scoped>\n",
       "    .dataframe tbody tr th:only-of-type {\n",
       "        vertical-align: middle;\n",
       "    }\n",
       "\n",
       "    .dataframe tbody tr th {\n",
       "        vertical-align: top;\n",
       "    }\n",
       "\n",
       "    .dataframe thead th {\n",
       "        text-align: right;\n",
       "    }\n",
       "</style>\n",
       "<table border=\"1\" class=\"dataframe\">\n",
       "  <thead>\n",
       "    <tr style=\"text-align: right;\">\n",
       "      <th></th>\n",
       "      <th>MES</th>\n",
       "      <th>TOTAL_OCORRENCIAS</th>\n",
       "    </tr>\n",
       "  </thead>\n",
       "  <tbody>\n",
       "    <tr>\n",
       "      <th>0</th>\n",
       "      <td>2012-01</td>\n",
       "      <td>3961</td>\n",
       "    </tr>\n",
       "    <tr>\n",
       "      <th>1</th>\n",
       "      <td>2012-02</td>\n",
       "      <td>4127</td>\n",
       "    </tr>\n",
       "    <tr>\n",
       "      <th>2</th>\n",
       "      <td>2012-03</td>\n",
       "      <td>4869</td>\n",
       "    </tr>\n",
       "    <tr>\n",
       "      <th>3</th>\n",
       "      <td>2012-04</td>\n",
       "      <td>4617</td>\n",
       "    </tr>\n",
       "    <tr>\n",
       "      <th>4</th>\n",
       "      <td>2012-05</td>\n",
       "      <td>4706</td>\n",
       "    </tr>\n",
       "    <tr>\n",
       "      <th>...</th>\n",
       "      <td>...</td>\n",
       "      <td>...</td>\n",
       "    </tr>\n",
       "    <tr>\n",
       "      <th>127</th>\n",
       "      <td>2022-08</td>\n",
       "      <td>1398</td>\n",
       "    </tr>\n",
       "    <tr>\n",
       "      <th>128</th>\n",
       "      <td>2022-09</td>\n",
       "      <td>1863</td>\n",
       "    </tr>\n",
       "    <tr>\n",
       "      <th>129</th>\n",
       "      <td>2022-10</td>\n",
       "      <td>2270</td>\n",
       "    </tr>\n",
       "    <tr>\n",
       "      <th>130</th>\n",
       "      <td>2022-11</td>\n",
       "      <td>2340</td>\n",
       "    </tr>\n",
       "    <tr>\n",
       "      <th>131</th>\n",
       "      <td>2022-12</td>\n",
       "      <td>2171</td>\n",
       "    </tr>\n",
       "  </tbody>\n",
       "</table>\n",
       "<p>132 rows × 2 columns</p>\n",
       "</div>"
      ],
      "text/plain": [
       "         MES  TOTAL_OCORRENCIAS\n",
       "0    2012-01               3961\n",
       "1    2012-02               4127\n",
       "2    2012-03               4869\n",
       "3    2012-04               4617\n",
       "4    2012-05               4706\n",
       "..       ...                ...\n",
       "127  2022-08               1398\n",
       "128  2022-09               1863\n",
       "129  2022-10               2270\n",
       "130  2022-11               2340\n",
       "131  2022-12               2171\n",
       "\n",
       "[132 rows x 2 columns]"
      ]
     },
     "execution_count": 61,
     "metadata": {},
     "output_type": "execute_result"
    }
   ],
   "source": [
    "cidade_agg = dataset.groupby(['MES']).size().reset_index(name='TOTAL_OCORRENCIAS')\n",
    "cidade_agg"
   ]
  },
  {
   "cell_type": "markdown",
   "metadata": {},
   "source": [
    "# Estacionaridade"
   ]
  },
  {
   "cell_type": "markdown",
   "metadata": {},
   "source": [
    "## Teste Dickey-Fuller Aumentado (ADF)"
   ]
  },
  {
   "cell_type": "code",
   "execution_count": 62,
   "metadata": {},
   "outputs": [],
   "source": [
    "# 1. Define uma série temporal específica a partir de 'cidade_agg'.\n",
    "# O método 'set_index' define 'MES' como o índice do DataFrame.\n",
    "# A coluna 'TOTAL_OCORRENCIAS' é selecionada para criar a série temporal 'cidade_especifico_ts'.\n",
    "# Define uma série temporal específica a partir de 'cidade_agg'.\n",
    "cidade_especifico_ts = cidade_agg.set_index('MES')['TOTAL_OCORRENCIAS'] "
   ]
  },
  {
   "cell_type": "code",
   "execution_count": 63,
   "metadata": {},
   "outputs": [
    {
     "name": "stdout",
     "output_type": "stream",
     "text": [
      "ADF Statistic: -1.3436049031848154\n",
      "p-value: 0.6089945847518864\n",
      "\n",
      "Não há evidências suficientes para rejeitar a hipótese nula.\n",
      "Não existe uma diferença significativa entre as médias.\n"
     ]
    }
   ],
   "source": [
    "# Teste Dickey-Fuller Aumentado\n",
    "adf_result = adfuller(cidade_especifico_ts)\n",
    "print(f'ADF Statistic: {adf_result[0]}')\n",
    "print(f'p-value: {adf_result[1]}')\n",
    "print()\n",
    "# Define o nível de significância\n",
    "nivel_significancia = 0.05\n",
    "\n",
    "# Verifica se o valor p é menor ou igual ao nível de significância\n",
    "if adf_result[1] <= nivel_significancia:\n",
    "    # Se for, imprime que há evidências suficientes para rejeitar a hipótese nula\n",
    "    print(\"Há evidências suficientes para rejeitar a hipótese nula.\\nExiste uma diferença significativa entre as médias.\")\n",
    "else:\n",
    "    # Caso contrário, imprime que não há evidências suficientes para rejeitar a hipótese nula\n",
    "    print(\"Não há evidências suficientes para rejeitar a hipótese nula.\\nNão existe uma diferença significativa entre as médias.\")"
   ]
  },
  {
   "cell_type": "markdown",
   "metadata": {},
   "source": [
    "## Transformação Logarítmica"
   ]
  },
  {
   "cell_type": "code",
   "execution_count": 64,
   "metadata": {},
   "outputs": [],
   "source": [
    "cidade_agg['LOG_TOTAL_OCORRENCIAS'] = np.log(cidade_agg['TOTAL_OCORRENCIAS'])\n",
    "\n",
    "# 1. Define uma série temporal específica a partir de 'cidade_agg'.\n",
    "# O método 'set_index' define 'MES' como o índice do DataFrame.\n",
    "# A coluna 'TOTAL_OCORRENCIAS' é selecionada para criar a série temporal 'cidade_especifico_ts'.\n",
    "cidade_especifico_ts = cidade_agg.set_index('MES')['LOG_TOTAL_OCORRENCIAS']\n",
    "\n",
    "# 2. Converte o índice da série temporal para o formato de carimbo de data/hora (timestamp).\n",
    "# Isso é útil se o índice 'MES' estiver em um formato que não seja datetime, como strings ou inteiros.\n",
    "# A conversão garante que as operações de série temporal, como reamostragem ou diferenciação, funcionem corretamente.\n",
    "#cidade_especifico_ts.index = cidade_especifico_ts.index.to_timestamp()"
   ]
  },
  {
   "cell_type": "code",
   "execution_count": 65,
   "metadata": {},
   "outputs": [
    {
     "name": "stdout",
     "output_type": "stream",
     "text": [
      "ADF Statistic: -1.3607658979951258\n",
      "p-value: 0.6009343121586662\n",
      "\n",
      "Não há evidências suficientes para rejeitar a hipótese nula.\n",
      "Não existe uma diferença significativa entre as médias.\n"
     ]
    }
   ],
   "source": [
    "# Teste Dickey-Fuller Aumentado\n",
    "adf_result = adfuller(cidade_especifico_ts)\n",
    "print(f'ADF Statistic: {adf_result[0]}')\n",
    "print(f'p-value: {adf_result[1]}')\n",
    "print()\n",
    "# Define o nível de significância\n",
    "nivel_significancia = 0.05\n",
    "\n",
    "# Verifica se o valor p é menor ou igual ao nível de significância\n",
    "if adf_result[1] <= nivel_significancia:\n",
    "    # Se for, imprime que há evidências suficientes para rejeitar a hipótese nula\n",
    "    print(\"Há evidências suficientes para rejeitar a hipótese nula.\\nExiste uma diferença significativa entre as médias.\")\n",
    "else:\n",
    "    # Caso contrário, imprime que não há evidências suficientes para rejeitar a hipótese nula\n",
    "    print(\"Não há evidências suficientes para rejeitar a hipótese nula.\\nNão existe uma diferença significativa entre as médias.\")"
   ]
  },
  {
   "cell_type": "markdown",
   "metadata": {},
   "source": [
    "## Diferenciação de Primeira Ordem"
   ]
  },
  {
   "cell_type": "code",
   "execution_count": 66,
   "metadata": {},
   "outputs": [],
   "source": [
    "# Supondo que 'cidade_agg' é o seu DataFrame contendo a série temporal\n",
    "# Realize a diferenciação de primeira ordem\n",
    "cidade_agg['DIFF_TOTAL_OCORRENCIAS'] = cidade_agg['LOG_TOTAL_OCORRENCIAS'].diff()\n",
    "\n",
    "# Remova os valores NaN resultantes da diferenciação\n",
    "cidade_agg.dropna(inplace=True)"
   ]
  },
  {
   "cell_type": "code",
   "execution_count": 67,
   "metadata": {},
   "outputs": [
    {
     "name": "stdout",
     "output_type": "stream",
     "text": [
      "Estatística ADF: -1.9915451104603126\n",
      "Valor-p: 0.2902925341729506\n",
      "Valores críticos: {'1%': -3.4865346059036564, '5%': -2.8861509858476264, '10%': -2.579896092790057}\n",
      "\n",
      "Não há evidências suficientes para rejeitar a hipótese nula.\n",
      "Não existe uma diferença significativa entre as médias.\n"
     ]
    }
   ],
   "source": [
    "# Verifique a estacionariedade dos resíduos da diferenciação usando o teste ADF\n",
    "result = adfuller(cidade_agg['DIFF_TOTAL_OCORRENCIAS'])\n",
    "\n",
    "print('Estatística ADF:', result[0])\n",
    "print('Valor-p:', result[1])\n",
    "print('Valores críticos:', result[4])\n",
    "print()\n",
    "# Define o nível de significância\n",
    "nivel_significancia = 0.05\n",
    "# Verifica se o valor p é menor ou igual ao nível de significância\n",
    "if result[1] <= nivel_significancia:\n",
    "    # Se for, imprime que há evidências suficientes para rejeitar a hipótese nula\n",
    "    print(\"Há evidências suficientes para rejeitar a hipótese nula.\\nExiste uma diferença significativa entre as médias.\")\n",
    "else:\n",
    "    # Caso contrário, imprime que não há evidências suficientes para rejeitar a hipótese nula\n",
    "    print(\"Não há evidências suficientes para rejeitar a hipótese nula.\\nNão existe uma diferença significativa entre as médias.\")"
   ]
  },
  {
   "cell_type": "markdown",
   "metadata": {},
   "source": [
    "# Diferenciação de Segunda Ordem"
   ]
  },
  {
   "cell_type": "code",
   "execution_count": 68,
   "metadata": {},
   "outputs": [],
   "source": [
    "cidade_agg['DIFF_TOTAL_OCORRENCIAS_2'] = cidade_agg['DIFF_TOTAL_OCORRENCIAS'].diff()\n",
    "# Remova os valores NaN resultantes da diferenciação\n",
    "cidade_agg.dropna(inplace=True)"
   ]
  },
  {
   "cell_type": "code",
   "execution_count": 69,
   "metadata": {},
   "outputs": [
    {
     "name": "stdout",
     "output_type": "stream",
     "text": [
      "Estatística ADF: -10.84504037477599\n",
      "Valor-p: 1.5802779922913929e-19\n",
      "Valores críticos: {'1%': -3.4865346059036564, '5%': -2.8861509858476264, '10%': -2.579896092790057}\n",
      "\n",
      "Há evidências suficientes para rejeitar a hipótese nula.\n",
      "Existe uma diferença significativa entre as médias.\n"
     ]
    }
   ],
   "source": [
    "# Verifique a estacionariedade dos resíduos da diferenciação usando o teste ADF\n",
    "result = adfuller(cidade_agg['DIFF_TOTAL_OCORRENCIAS_2'])\n",
    "\n",
    "print('Estatística ADF:', result[0])\n",
    "print('Valor-p:', result[1])\n",
    "print('Valores críticos:', result[4])\n",
    "print()\n",
    "# Verifica se o valor p é menor ou igual ao nível de significância\n",
    "if result[1] <= nivel_significancia:\n",
    "    # Se for, imprime que há evidências suficientes para rejeitar a hipótese nula\n",
    "    print(\"Há evidências suficientes para rejeitar a hipótese nula.\\nExiste uma diferença significativa entre as médias.\")\n",
    "else:\n",
    "    # Caso contrário, imprime que não há evidências suficientes para rejeitar a hipótese nula\n",
    "    print(\"Não há evidências suficientes para rejeitar a hipótese nula.\\nNão existe uma diferença significativa entre as médias.\")"
   ]
  },
  {
   "cell_type": "markdown",
   "metadata": {},
   "source": [
    "# Modelagem e Previsão\n",
    "\n",
    "Modelos ARIMA e SARIMA\n",
    "\n",
    "Se a série for estacionária, use ARIMA. Caso haja sazonalidade, utilize SARIMA."
   ]
  },
  {
   "cell_type": "code",
   "execution_count": 70,
   "metadata": {},
   "outputs": [],
   "source": [
    "# Selecionando colunas específicas\n",
    "cidade_especifico_ts = cidade_agg[['MES', 'DIFF_TOTAL_OCORRENCIAS_2']]\n",
    "# Selecionando apenas a série temporal para os modelos\n",
    "serie_temporal = cidade_especifico_ts.set_index('MES')['DIFF_TOTAL_OCORRENCIAS_2']\n",
    "serie_temporal.index = serie_temporal.index.to_timestamp()"
   ]
  },
  {
   "cell_type": "code",
   "execution_count": 71,
   "metadata": {},
   "outputs": [],
   "source": [
    "# Supondo que 'serie_temporal' seja um DataFrame do Pandas com o índice como datas\n",
    "# Se o índice não for do tipo datetime, converta-o\n",
    "if not isinstance(serie_temporal.index, pd.DatetimeIndex):\n",
    "    serie_temporal.index = pd.to_datetime(serie_temporal.index)\n",
    "    \n",
    "# Supondo que 'serie_temporal' seja um DataFrame do Pandas com o índice como datas\n",
    "# Dividindo a série temporal em treinamento e teste (70% treinamento, 30% teste)\n",
    "tamanho_treino = int(len(serie_temporal) * 0.70)\n",
    "serie_treino = serie_temporal[:tamanho_treino]\n",
    "serie_teste = serie_temporal[tamanho_treino:]"
   ]
  },
  {
   "cell_type": "code",
   "execution_count": 72,
   "metadata": {},
   "outputs": [
    {
     "data": {
      "text/plain": [
       "(91, 39)"
      ]
     },
     "execution_count": 72,
     "metadata": {},
     "output_type": "execute_result"
    }
   ],
   "source": [
    "len(serie_treino), len(serie_teste)"
   ]
  },
  {
   "cell_type": "markdown",
   "metadata": {},
   "source": [
    "## ARIMA"
   ]
  },
  {
   "cell_type": "code",
   "execution_count": 73,
   "metadata": {},
   "outputs": [],
   "source": [
    "# Ajuste e previsão usando o modelo ARIMA no conjunto de treinamento\n",
    "model_arima = ARIMA(serie_treino, order=(2, 1, 2))\n",
    "model_arima_fit = model_arima.fit()\n",
    "# Faz a previsão para o conjunto de teste\n",
    "forecast_arima = model_arima_fit.forecast(steps=len(serie_teste))"
   ]
  },
  {
   "cell_type": "markdown",
   "metadata": {},
   "source": [
    "## SARIMA"
   ]
  },
  {
   "cell_type": "code",
   "execution_count": 74,
   "metadata": {},
   "outputs": [],
   "source": [
    "# Ajuste e previsão usando o modelo SARIMA no conjunto de treinamento\n",
    "model_sarima = SARIMAX(serie_treino, order=(5, 1, 2), seasonal_order=(1, 1, 1, 12))\n",
    "model_sarima_fit = model_sarima.fit()\n",
    "# Faz a previsão para o conjunto de teste\n",
    "forecast_sarima = model_sarima_fit.forecast(steps=len(serie_teste))"
   ]
  },
  {
   "cell_type": "code",
   "execution_count": 75,
   "metadata": {},
   "outputs": [
    {
     "name": "stdout",
     "output_type": "stream",
     "text": [
      "MSE do modelo ARIMA: 0.04415476037385501\n",
      "MSE do modelo SARIMA: 0.023731811487424353\n",
      "MAE ARIMA: 0.23200095974484916\n",
      "MAE SARIMA: 0.2088452208320042\n",
      "RMSE do modelo ARIMA: 0.2101303413928008\n",
      "RMSE do modelo SARIMA: 0.15405132744453828\n",
      "Coeficiente de Determinação arima (R²): 0.004031534145415128\n",
      "Coeficiente de Determinação sarima (R²): 0.4646979016768549\n"
     ]
    }
   ],
   "source": [
    "# Calcula o erro quadrático médio (MSE) para ARIMA\n",
    "mse_arima = mean_squared_error(serie_teste, forecast_arima)\n",
    "# Calcula o erro quadrático médio (MSE) para SARIMA\n",
    "mse_sarima = mean_squared_error(serie_teste, forecast_sarima)\n",
    "\n",
    "# Supomos que você tenha dados reais para comparação\n",
    "y_true = serie_temporal[-12:]  # valores reais dos últimos 12 meses\n",
    "y_pred_arima = forecast_arima[:12]   # previsões ARIMA\n",
    "y_pred_sarima = forecast_sarima[:12] # previsões SARIMA\n",
    "\n",
    "mae_arima = mean_absolute_error(y_true, y_pred_arima)\n",
    "mae_sarima = mean_absolute_error(y_true, y_pred_sarima)\n",
    "\n",
    "# Calcule o RMSE para o modelo ARIMA\n",
    "rmse_arima = np.sqrt(mean_squared_error(serie_teste, forecast_arima))\n",
    "# Calcule o RMSE para o modelo SARIMA\n",
    "rmse_sarima = np.sqrt(mean_squared_error(serie_teste, forecast_sarima))\n",
    "\n",
    "r2_arima = r2_score(serie_teste, forecast_arima)\n",
    "r2_sarima = r2_score(serie_teste, forecast_sarima)\n",
    "\n",
    "# Exiba os resultados\n",
    "print(f'MSE do modelo ARIMA: {mse_arima}')\n",
    "print(f'MSE do modelo SARIMA: {mse_sarima}')\n",
    "print(f'MAE ARIMA: {mae_arima}')\n",
    "print(f'MAE SARIMA: {mae_sarima}')\n",
    "print(f\"RMSE do modelo ARIMA: {rmse_arima}\")\n",
    "print(f\"RMSE do modelo SARIMA: {rmse_sarima}\")\n",
    "print(f\"Coeficiente de Determinação arima (R²): {r2_arima}\")\n",
    "print(f\"Coeficiente de Determinação sarima (R²): {r2_sarima}\")"
   ]
  }
 ],
 "metadata": {
  "kernelspec": {
   "display_name": "Python 3",
   "language": "python",
   "name": "python3"
  },
  "language_info": {
   "codemirror_mode": {
    "name": "ipython",
    "version": 3
   },
   "file_extension": ".py",
   "mimetype": "text/x-python",
   "name": "python",
   "nbconvert_exporter": "python",
   "pygments_lexer": "ipython3",
   "version": "3.12.2"
  }
 },
 "nbformat": 4,
 "nbformat_minor": 2
}
